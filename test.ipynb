{
 "cells": [
  {
   "cell_type": "code",
   "execution_count": 45,
   "id": "db0660ab-a89e-43ec-ab7d-be32181e27ad",
   "metadata": {},
   "outputs": [],
   "source": [
    "from sia.satellite import sentinel2\n",
    "from sia.utils.helper import *\n",
    "from sia.utils.raster import *\n",
    "from sia.indices.indice import *\n",
    "import os\n",
    "import errno\n",
    "from collections import defaultdict\n",
    "import numpy as np\n",
    "np.seterr(divide='ignore', invalid='ignore')\n",
    "s2 = sentinel2.Sentinel2()\n",
    "\n",
    "# # s2_tile = '/home/ec2-user/SageMaker/sumit/crop-classification/unsupcc/satellite/satellite_tiles/s2_tile.shp'\n",
    "# shape_file = 'data/Farmdata_Jaleubari_Ladhasar_Ratangarh_Churu_1-polygon.shp'\n",
    "shape_file = '/Users/sumitmaan/work/dehaat/india_shapefile/districts/vaishali/file.shp'\n",
    "pids = s2.get_product_ids('2021-11-01', '2021-12-31', 10, 5, \n",
    "                       shape_file=shape_file, bbox=None)"
   ]
  },
  {
   "cell_type": "code",
   "execution_count": 47,
   "id": "42021613-414a-44c8-a59e-a8020c7b82eb",
   "metadata": {},
   "outputs": [
    {
     "data": {
      "text/plain": [
       "'/Users/sumitmaan/work/dehaat/crop-health-monitor/vaishali.img'"
      ]
     },
     "execution_count": 47,
     "metadata": {},
     "output_type": "execute_result"
    }
   ],
   "source": [
    "'/Users/sumitmaan/work/dehaat/crop-health-monitor/vaishali.img'"
   ]
  },
  {
   "cell_type": "code",
   "execution_count": 48,
   "id": "442b9b9f-340c-4277-a081-dcd7cf4e42e2",
   "metadata": {},
   "outputs": [],
   "source": [
    "pids = {'2021-11-03': ['S2A_45RUJ_20211103_0_L2A'],\n",
    " '2021-11-08': ['S2B_45RUJ_20211108_0_L2A'],\n",
    " '2021-11-13': ['S2A_45RUJ_20211113_0_L2A'],\n",
    " '2021-11-18': ['S2B_45RUJ_20211118_0_L2A'],\n",
    " '2021-11-23': ['S2A_45RUJ_20211123_0_L2A'],\n",
    " '2021-11-28': ['S2B_45RUJ_20211128_0_L2A'],\n",
    " '2021-12-03': ['S2A_45RUJ_20211203_0_L2A'],\n",
    " '2021-12-08': ['S2B_45RUJ_20211208_0_L2A'],\n",
    " '2021-12-13': ['S2A_45RUJ_20211213_0_L2A']}"
   ]
  },
  {
   "cell_type": "code",
   "execution_count": null,
   "id": "226653f6-0bd6-44dd-bb06-1751eca45200",
   "metadata": {},
   "outputs": [],
   "source": []
  },
  {
   "cell_type": "code",
   "execution_count": 49,
   "id": "a8a21411-f47c-448a-b2c1-ae5f0f85eede",
   "metadata": {},
   "outputs": [],
   "source": [
    "lst = [(key, val, shape_file) for key, val in pids.items()]"
   ]
  },
  {
   "cell_type": "code",
   "execution_count": 5,
   "id": "25dd5f15-9de9-42af-af09-616e354dcdaa",
   "metadata": {},
   "outputs": [],
   "source": [
    "ig = Indice()"
   ]
  },
  {
   "cell_type": "code",
   "execution_count": null,
   "id": "469bb9b7-2a9f-4863-af80-339ce40a4858",
   "metadata": {},
   "outputs": [],
   "source": [
    "from multiprocessing import Pool, cpu_count, Process\n",
    "pool = Pool(cpu_count()-2)\n",
    "with pool:\n",
    "    pool.map(ig.indices_generator, lst)"
   ]
  },
  {
   "cell_type": "code",
   "execution_count": null,
   "id": "4fa20c78-aa02-475e-ac89-5baf8e668502",
   "metadata": {},
   "outputs": [],
   "source": []
  },
  {
   "cell_type": "code",
   "execution_count": 50,
   "id": "4bcba123-9e22-4d60-8514-60fd2e50cfa5",
   "metadata": {},
   "outputs": [],
   "source": [
    "def merge_clip_raster(raster_file_list, output_file=None, shp_file=None, bbox=None, out_width=None, out_height=None):\n",
    "    ds_lst = list()\n",
    "    for raster in raster_file_list:\n",
    "        ds = gdal.Warp('', raster, format='vrt', dstNodata=0,\n",
    "                       dstSRS=\"+proj=longlat +datum=WGS84 +no_defs +ellps=WGS84 +towgs84=0,0,0\",\n",
    "                       cutlineDSName=shp_file, cropToCutline=True, width=out_width, height=out_height)\n",
    "        ds_lst.append(ds)\n",
    "    del ds\n",
    "    if shp_file:\n",
    "        ds = gdal.BuildVRT('', ds_lst, VRTNodata=0, srcNodata=0)\n",
    "        gdal.Warp(output_file, ds, format='GTiff', dstNodata=0,\n",
    "                  dstSRS=\"+proj=longlat +datum=WGS84 +no_defs +ellps=WGS84 +towgs84=0,0,0\",\n",
    "                  cutlineDSName=shp_file, cropToCutline=True, width=out_width, height=out_height)\n",
    "    else:\n",
    "        if out_width:\n",
    "            ds = gdal.BuildVRT('', ds_lst, VRTNodata=0, srcNodata=0)\n",
    "            gdal.Warp(output_file, ds, format='GTiff', dstNodata=0,\n",
    "                      dstSRS=\"+proj=longlat +datum=WGS84 +no_defs +ellps=WGS84 +towgs84=0,0,0\",\n",
    "                      outputBounds=tuple(bbox), cropToCutline=True, width=out_width, height=out_height)\n",
    "        else:\n",
    "            ds = gdal.BuildVRT('', ds_lst, VRTNodata=0, srcNodata=0)\n",
    "            gdal.Warp(output_file, ds, format='GTiff', dstNodata=0,\n",
    "                      dstSRS=\"+proj=longlat +datum=WGS84 +no_defs +ellps=WGS84 +towgs84=0,0,0\",\n",
    "                      outputBounds=tuple(bbox), cropToCutline=True)\n",
    "    return output_file"
   ]
  },
  {
   "cell_type": "code",
   "execution_count": null,
   "id": "55ccf82d-8b53-4461-8d8e-00b0c2fd5b1e",
   "metadata": {},
   "outputs": [],
   "source": []
  },
  {
   "cell_type": "code",
   "execution_count": null,
   "id": "fe653034-0f2a-412a-b339-1b0c97f0566d",
   "metadata": {},
   "outputs": [],
   "source": [
    "loc_fp = '/vsimem/ndvi.tif'\n",
    "merge_clip_raster(['data/file/indices/2021-11-03/ndvi.tif'], output_file=loc_fp, shp_file=shape_file)"
   ]
  },
  {
   "cell_type": "code",
   "execution_count": null,
   "id": "0ed8f6f0-8ad6-4875-9ccf-14b32b032f0f",
   "metadata": {},
   "outputs": [],
   "source": [
    "os.makedirs('data/agrimask')"
   ]
  },
  {
   "cell_type": "code",
   "execution_count": null,
   "id": "d2dbfe3d-a6b6-4182-abd4-ff240c54ca54",
   "metadata": {},
   "outputs": [],
   "source": [
    "from glob import glob\n",
    "files = glob('data/file/indices/2021-11-03/ndvi.tif')"
   ]
  },
  {
   "cell_type": "code",
   "execution_count": 39,
   "id": "1ded31da-8440-4934-b41f-4e25275c3e4d",
   "metadata": {},
   "outputs": [],
   "source": [
    "arr = raster_to_array('data/agrimask/vaishali1.tif', data_type='int64')\n",
    "arr1 = raster_to_array('ndvi.tif', data_type='float')"
   ]
  },
  {
   "cell_type": "code",
   "execution_count": 27,
   "id": "94f19008-e778-4af9-8545-ec2d1f429eda",
   "metadata": {},
   "outputs": [],
   "source": [
    "ds = gdal.Open('vaishali.img')"
   ]
  },
  {
   "cell_type": "code",
   "execution_count": null,
   "id": "6b967eac-c8a8-4f1d-9961-bf36e0d8fc0b",
   "metadata": {},
   "outputs": [],
   "source": [
    "ds.RasterYSize"
   ]
  },
  {
   "cell_type": "code",
   "execution_count": null,
   "id": "c0bde322-4382-44ed-b169-c223274c97c8",
   "metadata": {},
   "outputs": [],
   "source": [
    "arr.shape, arr1.shape"
   ]
  },
  {
   "cell_type": "code",
   "execution_count": null,
   "id": "8f878a3b-1fac-4072-bebc-971268b9a6d3",
   "metadata": {},
   "outputs": [],
   "source": [
    "import matplotlib.pyplot as plt"
   ]
  },
  {
   "cell_type": "code",
   "execution_count": null,
   "id": "3f3fb459-b415-4f7c-adad-1694a6571a13",
   "metadata": {},
   "outputs": [],
   "source": [
    "plt.imshow(arr)"
   ]
  },
  {
   "cell_type": "code",
   "execution_count": null,
   "id": "78b82839-7eb6-4454-a90e-834eab6b4fc0",
   "metadata": {},
   "outputs": [],
   "source": [
    "plt.imshow(arr1)"
   ]
  },
  {
   "cell_type": "code",
   "execution_count": null,
   "id": "18931395-c1c9-4a92-980f-2eaf6264329c",
   "metadata": {},
   "outputs": [],
   "source": [
    "arr1[arr==0] = 0"
   ]
  },
  {
   "cell_type": "code",
   "execution_count": null,
   "id": "18cb6da4-d0f2-4c22-bbe6-7135bea8cf41",
   "metadata": {},
   "outputs": [],
   "source": [
    "plt.imshow(arr1)"
   ]
  },
  {
   "cell_type": "code",
   "execution_count": 33,
   "id": "6c6ea6a5-8c8b-42a6-9caa-4a3fceb41e91",
   "metadata": {},
   "outputs": [
    {
     "data": {
      "text/plain": [
       "40"
      ]
     },
     "execution_count": 33,
     "metadata": {},
     "output_type": "execute_result"
    }
   ],
   "source": [
    "arr[2912][2112]"
   ]
  },
  {
   "cell_type": "code",
   "execution_count": 40,
   "id": "cd1fd379-9b1a-4908-8551-f9e927f6e80b",
   "metadata": {},
   "outputs": [],
   "source": [
    "arr = arr.astype('float')\n"
   ]
  },
  {
   "cell_type": "code",
   "execution_count": 43,
   "id": "3672946f-2f5f-4951-80eb-ad4800cc0d85",
   "metadata": {},
   "outputs": [
    {
     "data": {
      "text/plain": [
       "nan"
      ]
     },
     "execution_count": 43,
     "metadata": {},
     "output_type": "execute_result"
    }
   ],
   "source": [
    "arr[2912][2112]"
   ]
  },
  {
   "cell_type": "code",
   "execution_count": 42,
   "id": "a6fed5fe-76eb-4cd0-9232-c1ec8731edb5",
   "metadata": {},
   "outputs": [],
   "source": [
    "arr[arr==40] = np.nan"
   ]
  },
  {
   "cell_type": "code",
   "execution_count": 44,
   "id": "fa3d25d6-6dd8-4d1b-9e7a-2fb9ef6dae71",
   "metadata": {},
   "outputs": [],
   "source": [
    "def upload_to_s3(mem_fp, s3_fp, bucket_name):\n",
    "    f = gdal.VSIFOpenL(mem_fp, 'rb')\n",
    "    gdal.VSIFSeekL(f, 0, 2)  # seek to end\n",
    "    size = gdal.VSIFTellL(f)\n",
    "    gdal.VSIFSeekL(f, 0, 0)  # seek to beginning\n",
    "    data = gdal.VSIFReadL(1, size, f)\n",
    "    gdal.VSIFCloseL(f)\n",
    "    # Upload the raw data to s3\n",
    "    s3 = boto3.client('s3', aws_access_key_id=ACCESS_KEY,\n",
    "                      aws_secret_access_key=SECRET_KEY)\n",
    "    s3.put_object(Key=s3_fp, Bucket=bucket_name, Body=data, ContentLength=size)"
   ]
  },
  {
   "cell_type": "code",
   "execution_count": null,
   "id": "44f4a158-0ed4-4019-8890-bff2407061a4",
   "metadata": {},
   "outputs": [],
   "source": []
  },
  {
   "cell_type": "code",
   "execution_count": null,
   "id": "192dbf21-8e81-4dc5-8c14-a72d4a9015b6",
   "metadata": {},
   "outputs": [],
   "source": []
  }
 ],
 "metadata": {
  "kernelspec": {
   "display_name": "Python 3 (ipykernel)",
   "language": "python",
   "name": "python3"
  },
  "language_info": {
   "codemirror_mode": {
    "name": "ipython",
    "version": 3
   },
   "file_extension": ".py",
   "mimetype": "text/x-python",
   "name": "python",
   "nbconvert_exporter": "python",
   "pygments_lexer": "ipython3",
   "version": "3.9.6"
  }
 },
 "nbformat": 4,
 "nbformat_minor": 5
}
