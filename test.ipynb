{
 "cells": [
  {
   "cell_type": "code",
   "execution_count": 1,
   "id": "db0660ab-a89e-43ec-ab7d-be32181e27ad",
   "metadata": {},
   "outputs": [
    {
     "name": "stdout",
     "output_type": "stream",
     "text": [
      "Tiles found for the given AOI : ['44RRP', '45RTJ', '45RUJ']\n",
      "Date: 2021-11-03   Tile:44RRP   Cloud: 0.0   Area AOI/Tile: 0.004419956425261422\n",
      "Date: 2021-11-03   Tile:44RRP   Cloud: 0.0   Area AOI/Tile: 0.0\n",
      "Date: 2021-11-06   Tile:44RRP   Cloud: 1.56   Area AOI/Tile: 0.004419956425261422\n",
      "Date: 2021-11-13   Tile:44RRP   Cloud: 0.0   Area AOI/Tile: 0.004419956425261422\n",
      "Date: 2021-11-16   Tile:44RRP   Cloud: 0.0   Area AOI/Tile: 0.004419956425261422\n",
      "Date: 2021-11-23   Tile:44RRP   Cloud: 0.0   Area AOI/Tile: 0.004419956425261422\n",
      "Date: 2021-11-26   Tile:44RRP   Cloud: 0.0   Area AOI/Tile: 0.004419956425261422\n",
      "Date: 2021-11-01   Tile:44RRP   Cloud: 0.0   Area AOI/Tile: 0.004419956425261422\n",
      "Date: 2021-11-08   Tile:44RRP   Cloud: 0.0   Area AOI/Tile: 0.004419956425261422\n",
      "Date: 2021-11-11   Tile:44RRP   Cloud: 39.24   Area AOI/Tile: 0.004419956425261422\n",
      "Date: 2021-11-18   Tile:44RRP   Cloud: 0.0   Area AOI/Tile: 0.004419956425261422\n",
      "Date: 2021-11-21   Tile:44RRP   Cloud: 0.0   Area AOI/Tile: 0.004419956425261422\n",
      "Date: 2021-11-28   Tile:44RRP   Cloud: 0.0   Area AOI/Tile: 0.004419956425261422\n",
      "Date: 2021-12-03   Tile:44RRP   Cloud: 1.97   Area AOI/Tile: 0.004419956425261422\n",
      "Date: 2021-12-06   Tile:44RRP   Cloud: 0.07   Area AOI/Tile: 0.004419956425261422\n",
      "Date: 2021-12-13   Tile:44RRP   Cloud: 0.0   Area AOI/Tile: 0.004419956425261422\n",
      "Date: 2021-12-16   Tile:44RRP   Cloud: 0.37   Area AOI/Tile: 0.004419956425261422\n",
      "Date: 2021-12-23   Tile:44RRP   Cloud: 11.81   Area AOI/Tile: 0.004419956425261422\n",
      "Date: 2021-12-26   Tile:44RRP   Cloud: 5.2   Area AOI/Tile: 0.004419956425261422\n",
      "Date: 2021-12-01   Tile:44RRP   Cloud: 0.0   Area AOI/Tile: 0.004419956425261422\n",
      "Date: 2021-12-08   Tile:44RRP   Cloud: 0.0   Area AOI/Tile: 0.004419956425261422\n",
      "Date: 2021-12-11   Tile:44RRP   Cloud: 0.0   Area AOI/Tile: 0.004419956425261422\n",
      "Date: 2021-12-18   Tile:44RRP   Cloud: 7.54   Area AOI/Tile: 0.004419956425261422\n",
      "Date: 2021-12-21   Tile:44RRP   Cloud: 9.05   Area AOI/Tile: 0.004419956425261422\n",
      "Date: 2021-12-28   Tile:44RRP   Cloud: 71.05   Area AOI/Tile: 0.004419956425261422\n",
      "Date: 2021-12-31   Tile:44RRP   Cloud: 43.71   Area AOI/Tile: 0.004419956425261422\n",
      "Date: 2021-11-03   Tile:45RTJ   Cloud: 0.0   Area AOI/Tile: 0.007546508413504264\n",
      "Date: 2021-11-06   Tile:45RTJ   Cloud: 0.94   Area AOI/Tile: 0.007546508413504264\n",
      "Date: 2021-11-13   Tile:45RTJ   Cloud: 0.0   Area AOI/Tile: 0.007546508413504264\n",
      "Date: 2021-11-16   Tile:45RTJ   Cloud: 0.0   Area AOI/Tile: 0.007546508413504264\n",
      "Date: 2021-11-23   Tile:45RTJ   Cloud: 0.0   Area AOI/Tile: 0.007546508413504264\n",
      "Date: 2021-11-26   Tile:45RTJ   Cloud: 0.0   Area AOI/Tile: 0.007546508413504264\n",
      "Date: 2021-11-01   Tile:45RTJ   Cloud: 0.0   Area AOI/Tile: 0.007547549611063094\n",
      "Date: 2021-11-08   Tile:45RTJ   Cloud: 0.0   Area AOI/Tile: 0.007546508413504264\n",
      "Date: 2021-11-11   Tile:45RTJ   Cloud: 39.27   Area AOI/Tile: 0.0075472063671666\n",
      "Date: 2021-11-18   Tile:45RTJ   Cloud: 0.0   Area AOI/Tile: 0.007546508413504264\n",
      "Date: 2021-11-21   Tile:45RTJ   Cloud: 0.0   Area AOI/Tile: 0.007546508413504264\n",
      "Date: 2021-11-28   Tile:45RTJ   Cloud: 0.0   Area AOI/Tile: 0.007546508413504264\n",
      "Date: 2021-12-03   Tile:45RTJ   Cloud: 1.86   Area AOI/Tile: 0.007546508413504264\n",
      "Date: 2021-12-06   Tile:45RTJ   Cloud: 0.07   Area AOI/Tile: 0.007546508413504264\n",
      "Date: 2021-12-13   Tile:45RTJ   Cloud: 0.0   Area AOI/Tile: 0.007546508413504264\n",
      "Date: 2021-12-16   Tile:45RTJ   Cloud: 0.34   Area AOI/Tile: 0.007546508413504264\n",
      "Date: 2021-12-23   Tile:45RTJ   Cloud: 12.22   Area AOI/Tile: 0.007546508413504264\n",
      "Date: 2021-12-26   Tile:45RTJ   Cloud: 5.12   Area AOI/Tile: 0.007546508413504264\n",
      "Date: 2021-12-01   Tile:45RTJ   Cloud: 0.0   Area AOI/Tile: 0.007546508413504264\n",
      "Date: 2021-12-08   Tile:45RTJ   Cloud: 0.0   Area AOI/Tile: 0.007546508413504264\n",
      "Date: 2021-12-11   Tile:45RTJ   Cloud: 0.0   Area AOI/Tile: 0.007546508413504264\n",
      "Date: 2021-12-18   Tile:45RTJ   Cloud: 7.2   Area AOI/Tile: 0.007546508413504264\n",
      "Date: 2021-12-21   Tile:45RTJ   Cloud: 9.87   Area AOI/Tile: 0.007546508413504264\n",
      "Date: 2021-12-28   Tile:45RTJ   Cloud: 69.2   Area AOI/Tile: 0.007546508413504264\n",
      "Date: 2021-12-31   Tile:45RTJ   Cloud: 41.1   Area AOI/Tile: 0.007546508413504264\n",
      "Date: 2021-11-03   Tile:45RUJ   Cloud: 0.02   Area AOI/Tile: 0.9999999999999988\n",
      "Date: 2021-11-06   Tile:45RUJ   Cloud: 0.0   Area AOI/Tile: 0.25457094598990876\n",
      "Date: 2021-11-13   Tile:45RUJ   Cloud: 2.74   Area AOI/Tile: 0.9999999999999988\n",
      "Date: 2021-11-16   Tile:45RUJ   Cloud: 0.0   Area AOI/Tile: 0.2674218182454898\n",
      "Date: 2021-11-23   Tile:45RUJ   Cloud: 0.0   Area AOI/Tile: 0.9999999999999988\n",
      "Date: 2021-11-26   Tile:45RUJ   Cloud: 0.0   Area AOI/Tile: 0.26372627297894286\n",
      "Date: 2021-11-01   Tile:45RUJ   Cloud: 0.0   Area AOI/Tile: 0.23992361829175718\n",
      "Date: 2021-11-08   Tile:45RUJ   Cloud: 0.0   Area AOI/Tile: 0.9999999999999988\n",
      "Date: 2021-11-11   Tile:45RUJ   Cloud: 0.13   Area AOI/Tile: 0.2453336291866625\n",
      "Date: 2021-11-18   Tile:45RUJ   Cloud: 0.23   Area AOI/Tile: 0.9999999999999988\n",
      "Date: 2021-11-21   Tile:45RUJ   Cloud: 0.0   Area AOI/Tile: 0.2602047944435234\n",
      "Date: 2021-11-28   Tile:45RUJ   Cloud: 0.57   Area AOI/Tile: 0.9999999999999988\n",
      "Date: 2021-12-03   Tile:45RUJ   Cloud: 4.54   Area AOI/Tile: 0.9999999999999988\n",
      "Date: 2021-12-06   Tile:45RUJ   Cloud: 0.5   Area AOI/Tile: 0.26109389735368677\n",
      "Date: 2021-12-13   Tile:45RUJ   Cloud: 0.0   Area AOI/Tile: 0.9999999999999988\n",
      "Date: 2021-12-16   Tile:45RUJ   Cloud: 0.13   Area AOI/Tile: 0.2637915722362988\n",
      "Date: 2021-12-23   Tile:45RUJ   Cloud: 44.31   Area AOI/Tile: 0.9999999999999988\n",
      "Date: 2021-12-26   Tile:45RUJ   Cloud: 10.66   Area AOI/Tile: 0.25573677260926897\n",
      "Date: 2021-12-01   Tile:45RUJ   Cloud: 0.0   Area AOI/Tile: 0.2629462422821619\n",
      "Date: 2021-12-08   Tile:45RUJ   Cloud: 0.0   Area AOI/Tile: 0.9999999999999988\n",
      "Date: 2021-12-11   Tile:45RUJ   Cloud: 0.0   Area AOI/Tile: 0.25790529032016696\n",
      "Date: 2021-12-18   Tile:45RUJ   Cloud: 12.2   Area AOI/Tile: 0.9999999999999988\n",
      "Date: 2021-12-21   Tile:45RUJ   Cloud: 32.88   Area AOI/Tile: 0.2643860935878696\n",
      "Date: 2021-12-28   Tile:45RUJ   Cloud: 44.1   Area AOI/Tile: 0.9999999999999988\n",
      "Date: 2021-12-31   Tile:45RUJ   Cloud: 0.12   Area AOI/Tile: 0.2620561016241177\n"
     ]
    }
   ],
   "source": [
    "from sia.satellite import sentinel2\n",
    "from sia.utils.helper import *\n",
    "from sia.utils.raster import *\n",
    "from sia.indices.indice import *\n",
    "import os\n",
    "import errno\n",
    "from collections import defaultdict\n",
    "import numpy as np\n",
    "np.seterr(divide='ignore', invalid='ignore')\n",
    "s2 = sentinel2.Sentinel2()\n",
    "\n",
    "# # s2_tile = '/home/ec2-user/SageMaker/sumit/crop-classification/unsupcc/satellite/satellite_tiles/s2_tile.shp'\n",
    "# shape_file = 'data/Farmdata_Jaleubari_Ladhasar_Ratangarh_Churu_1-polygon.shp'\n",
    "shape_file = '/Users/sumitmaan/work/dehaat/india_shapefile/districts/vaishali/file.shp'\n",
    "pids = s2.get_product_ids('2021-11-01', '2021-12-31', 10, 5, \n",
    "                       shape_file=shape_file, bbox=None)"
   ]
  },
  {
   "cell_type": "code",
   "execution_count": 2,
   "id": "442b9b9f-340c-4277-a081-dcd7cf4e42e2",
   "metadata": {},
   "outputs": [
    {
     "data": {
      "text/plain": [
       "{'2021-11-03': ['S2A_45RUJ_20211103_0_L2A'],\n",
       " '2021-11-08': ['S2B_45RUJ_20211108_0_L2A'],\n",
       " '2021-11-13': ['S2A_45RUJ_20211113_0_L2A'],\n",
       " '2021-11-18': ['S2B_45RUJ_20211118_0_L2A'],\n",
       " '2021-11-23': ['S2A_45RUJ_20211123_0_L2A'],\n",
       " '2021-11-28': ['S2B_45RUJ_20211128_0_L2A'],\n",
       " '2021-12-03': ['S2A_45RUJ_20211203_0_L2A'],\n",
       " '2021-12-08': ['S2B_45RUJ_20211208_0_L2A'],\n",
       " '2021-12-13': ['S2A_45RUJ_20211213_0_L2A']}"
      ]
     },
     "execution_count": 2,
     "metadata": {},
     "output_type": "execute_result"
    }
   ],
   "source": [
    "pids"
   ]
  },
  {
   "cell_type": "code",
   "execution_count": 3,
   "id": "a8a21411-f47c-448a-b2c1-ae5f0f85eede",
   "metadata": {},
   "outputs": [],
   "source": [
    "lst = [(key, val, shape_file) for key, val in pids.items()]"
   ]
  },
  {
   "cell_type": "code",
   "execution_count": 4,
   "id": "469bb9b7-2a9f-4863-af80-339ce40a4858",
   "metadata": {},
   "outputs": [
    {
     "ename": "NameError",
     "evalue": "name 'ss' is not defined",
     "output_type": "error",
     "traceback": [
      "\u001b[0;31m---------------------------------------------------------------------------\u001b[0m",
      "\u001b[0;31mNameError\u001b[0m                                 Traceback (most recent call last)",
      "Cell \u001b[0;32mIn [4], line 4\u001b[0m\n\u001b[1;32m      2\u001b[0m pool \u001b[38;5;241m=\u001b[39m Pool(cpu_count()\u001b[38;5;241m-\u001b[39m\u001b[38;5;241m2\u001b[39m)\n\u001b[1;32m      3\u001b[0m \u001b[38;5;28;01mwith\u001b[39;00m pool:\n\u001b[0;32m----> 4\u001b[0m     pool\u001b[38;5;241m.\u001b[39mmap(\u001b[43mss\u001b[49m\u001b[38;5;241m.\u001b[39mindices_generator, lst)\n",
      "\u001b[0;31mNameError\u001b[0m: name 'ss' is not defined"
     ]
    }
   ],
   "source": [
    "from multiprocessing import Pool, cpu_count, Process\n",
    "pool = Pool(cpu_count()-2)\n",
    "with pool:\n",
    "    pool.map(ss.indices_generator, lst)"
   ]
  },
  {
   "cell_type": "code",
   "execution_count": null,
   "id": "05f3418c-1caa-44bf-9ae4-54e95e5351bd",
   "metadata": {},
   "outputs": [],
   "source": []
  },
  {
   "cell_type": "code",
   "execution_count": null,
   "id": "67d74116-ed2e-4088-a4c5-d002bbf3aa9d",
   "metadata": {},
   "outputs": [],
   "source": [
    "# for key, val in pids.items():\n",
    "    f_path = os.path.join('data', 'indice', str(key))\n",
    "    try:\n",
    "        os.makedirs(f_path)\n",
    "    except OSError as exc:\n",
    "        if exc.errno != errno.EEXIST:\n",
    "            raise\n",
    "        pass\n",
    "    raster_list = defaultdict(list)\n",
    "    for item in val:\n",
    "        raster_list['b4_path'].append(s2.pid_to_path(item, 'B04'))\n",
    "        raster_list['b8_path'].append(s2.pid_to_path(item, 'B08'))\n",
    "        raster_list['b8a_path'].append(s2.pid_to_path(item, 'B8A'))\n",
    "        raster_list['b11_path'].append(s2.pid_to_path(item, 'B11'))\n",
    "    \n",
    "    b4_file = merge_clip_raster(raster_file_list=raster_list['b4_path'], output_file='b4.tif', shp_file=shape_file)\n",
    "    b8_file = merge_clip_raster(raster_file_list=raster_list['b8_path'], output_file='b8.tif', shp_file=shape_file)\n",
    "    \n",
    "    b4 = raster_to_array(b4_file, 'int16')\n",
    "    b8 = raster_to_array(b8_file, 'int16')\n",
    "    ndvi = get_ndvi(b4,b8)\n",
    "    ndvi = np.around(ndvi, decimals=2, out=None)\n",
    "    write_raster('b4.tif', ndvi, f'{f_path}/ndvi.tif', gdal.GDT_Float32)\n",
    "    \n",
    "    savi = get_savi(b4, b8, 0.428)\n",
    "    savi = np.around(savi, decimals=2, out=None)\n",
    "    write_raster('b4.tif', savi, f'{f_path}/savi.tif', gdal.GDT_Float32)\n",
    "    b4 = b8 = ndvi = savi = None\n",
    "    \n",
    "    b8a_file = merge_clip_raster(raster_file_list=raster_list['b8a_path'], output_file='b8a.tif', shp_file=shape_file)\n",
    "    b11_file = merge_clip_raster(raster_file_list=raster_list['b11_path'], output_file='b11.tif', shp_file=shape_file)\n",
    "    b8a = raster_to_array(b8a_file, 'int16')\n",
    "    b11 = raster_to_array(b11_file, 'int16')\n",
    "    \n",
    "    lswi = get_lswi(b8a, b11)\n",
    "    lswi = np.around(lswi, decimals=2, out=None)\n",
    "    write_raster('b8a.tif', lswi, f'{f_path}/lswi.tif', gdal.GDT_Float32)\n",
    "    b8a = b11 = lswi = None"
   ]
  },
  {
   "cell_type": "code",
   "execution_count": null,
   "id": "4bcba123-9e22-4d60-8514-60fd2e50cfa5",
   "metadata": {},
   "outputs": [],
   "source": []
  },
  {
   "cell_type": "code",
   "execution_count": null,
   "id": "fe653034-0f2a-412a-b339-1b0c97f0566d",
   "metadata": {},
   "outputs": [],
   "source": []
  },
  {
   "cell_type": "code",
   "execution_count": null,
   "id": "0ed8f6f0-8ad6-4875-9ccf-14b32b032f0f",
   "metadata": {},
   "outputs": [],
   "source": []
  }
 ],
 "metadata": {
  "kernelspec": {
   "display_name": "Python 3 (ipykernel)",
   "language": "python",
   "name": "python3"
  },
  "language_info": {
   "codemirror_mode": {
    "name": "ipython",
    "version": 3
   },
   "file_extension": ".py",
   "mimetype": "text/x-python",
   "name": "python",
   "nbconvert_exporter": "python",
   "pygments_lexer": "ipython3",
   "version": "3.9.6"
  }
 },
 "nbformat": 4,
 "nbformat_minor": 5
}
