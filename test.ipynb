{
 "cells": [
  {
   "cell_type": "code",
   "execution_count": 4,
   "id": "db0660ab-a89e-43ec-ab7d-be32181e27ad",
   "metadata": {},
   "outputs": [
    {
     "name": "stderr",
     "output_type": "stream",
     "text": [
      "ERROR 5: cannot load source clip geometry\n"
     ]
    },
    {
     "ename": "AttributeError",
     "evalue": "'NoneType' object has no attribute 'GetLayer'",
     "output_type": "error",
     "traceback": [
      "\u001b[0;31m---------------------------------------------------------------------------\u001b[0m",
      "\u001b[0;31mAttributeError\u001b[0m                            Traceback (most recent call last)",
      "Cell \u001b[0;32mIn [4], line 15\u001b[0m\n\u001b[1;32m     12\u001b[0m \u001b[38;5;66;03m# # s2_tile = '/home/ec2-user/SageMaker/sumit/crop-classification/unsupcc/satellite/satellite_tiles/s2_tile.shp'\u001b[39;00m\n\u001b[1;32m     13\u001b[0m \u001b[38;5;66;03m# shape_file = 'data/Farmdata_Jaleubari_Ladhasar_Ratangarh_Churu_1-polygon.shp'\u001b[39;00m\n\u001b[1;32m     14\u001b[0m shape_file \u001b[38;5;241m=\u001b[39m \u001b[38;5;124m'\u001b[39m\u001b[38;5;124mdata/india_shp/districts/farrukhabad/file.shp\u001b[39m\u001b[38;5;124m'\u001b[39m\n\u001b[0;32m---> 15\u001b[0m pids \u001b[38;5;241m=\u001b[39m \u001b[43ms2\u001b[49m\u001b[38;5;241;43m.\u001b[39;49m\u001b[43mget_product_ids\u001b[49m\u001b[43m(\u001b[49m\u001b[38;5;124;43m'\u001b[39;49m\u001b[38;5;124;43m2021-11-01\u001b[39;49m\u001b[38;5;124;43m'\u001b[39;49m\u001b[43m,\u001b[49m\u001b[43m \u001b[49m\u001b[38;5;124;43m'\u001b[39;49m\u001b[38;5;124;43m2021-12-31\u001b[39;49m\u001b[38;5;124;43m'\u001b[39;49m\u001b[43m,\u001b[49m\u001b[43m \u001b[49m\u001b[38;5;241;43m10\u001b[39;49m\u001b[43m,\u001b[49m\u001b[43m \u001b[49m\u001b[38;5;241;43m5\u001b[39;49m\u001b[43m,\u001b[49m\u001b[43m \u001b[49m\n\u001b[1;32m     16\u001b[0m \u001b[43m                       \u001b[49m\u001b[43mshape_file\u001b[49m\u001b[38;5;241;43m=\u001b[39;49m\u001b[43mshape_file\u001b[49m\u001b[43m,\u001b[49m\u001b[43m \u001b[49m\u001b[43mbbox\u001b[49m\u001b[38;5;241;43m=\u001b[39;49m\u001b[38;5;28;43;01mNone\u001b[39;49;00m\u001b[43m)\u001b[49m\n",
      "File \u001b[0;32m~/work/dehaat/crop-health-monitor/sia/satellite/sentinel2.py:57\u001b[0m, in \u001b[0;36mSentinel2.get_product_ids\u001b[0;34m(self, start_date, end_date, cloud_threshold, data_days_interval, shape_file, bbox)\u001b[0m\n\u001b[1;32m     56\u001b[0m \u001b[38;5;28;01mdef\u001b[39;00m \u001b[38;5;21mget_product_ids\u001b[39m(\u001b[38;5;28mself\u001b[39m, start_date, end_date, cloud_threshold, data_days_interval, shape_file\u001b[38;5;241m=\u001b[39m\u001b[38;5;28;01mNone\u001b[39;00m, bbox\u001b[38;5;241m=\u001b[39m\u001b[38;5;28;01mNone\u001b[39;00m):\n\u001b[0;32m---> 57\u001b[0m     tile_list \u001b[38;5;241m=\u001b[39m \u001b[38;5;28;43mself\u001b[39;49m\u001b[38;5;241;43m.\u001b[39;49m\u001b[43mshape_to_tiles\u001b[49m\u001b[43m(\u001b[49m\u001b[43maoi_shp\u001b[49m\u001b[38;5;241;43m=\u001b[39;49m\u001b[43mshape_file\u001b[49m\u001b[43m,\u001b[49m\u001b[43m \u001b[49m\u001b[43mbbox\u001b[49m\u001b[38;5;241;43m=\u001b[39;49m\u001b[43mbbox\u001b[49m\u001b[43m)\u001b[49m\n\u001b[1;32m     58\u001b[0m     poly \u001b[38;5;241m=\u001b[39m shape_to_polygon(shp_file\u001b[38;5;241m=\u001b[39mshape_file, bbox\u001b[38;5;241m=\u001b[39mbbox)\n\u001b[1;32m     59\u001b[0m     \u001b[38;5;28mprint\u001b[39m(\u001b[38;5;124mf\u001b[39m\u001b[38;5;124m'\u001b[39m\u001b[38;5;124mTiles found for the given AOI : \u001b[39m\u001b[38;5;132;01m{\u001b[39;00mtile_list\u001b[38;5;132;01m}\u001b[39;00m\u001b[38;5;124m'\u001b[39m)\n",
      "File \u001b[0;32m~/work/dehaat/crop-health-monitor/sia/satellite/sentinel2.py:48\u001b[0m, in \u001b[0;36mSentinel2.shape_to_tiles\u001b[0;34m(self, aoi_shp, bbox)\u001b[0m\n\u001b[1;32m     46\u001b[0m driver \u001b[38;5;241m=\u001b[39m ogr\u001b[38;5;241m.\u001b[39mGetDriverByName(\u001b[38;5;124m'\u001b[39m\u001b[38;5;124mESRI Shapefile\u001b[39m\u001b[38;5;124m'\u001b[39m)\n\u001b[1;32m     47\u001b[0m ds \u001b[38;5;241m=\u001b[39m driver\u001b[38;5;241m.\u001b[39mOpen(aoi_mgrs_shp)\n\u001b[0;32m---> 48\u001b[0m layer \u001b[38;5;241m=\u001b[39m \u001b[43mds\u001b[49m\u001b[38;5;241;43m.\u001b[39;49m\u001b[43mGetLayer\u001b[49m(\u001b[38;5;241m0\u001b[39m)\n\u001b[1;32m     49\u001b[0m mgrs_list \u001b[38;5;241m=\u001b[39m []\n\u001b[1;32m     50\u001b[0m \u001b[38;5;28;01mfor\u001b[39;00m feat \u001b[38;5;129;01min\u001b[39;00m layer:\n",
      "\u001b[0;31mAttributeError\u001b[0m: 'NoneType' object has no attribute 'GetLayer'"
     ]
    }
   ],
   "source": [
    "from sia.satellite import sentinel2\n",
    "from sia.utils.helper import *\n",
    "from sia.utils.raster import *\n",
    "from sia.indices.indice import *\n",
    "import os\n",
    "import errno\n",
    "from collections import defaultdict\n",
    "import numpy as np\n",
    "np.seterr(divide='ignore', invalid='ignore')\n",
    "s2 = sentinel2.Sentinel2()\n",
    "\n",
    "# # s2_tile = '/home/ec2-user/SageMaker/sumit/crop-classification/unsupcc/satellite/satellite_tiles/s2_tile.shp'\n",
    "# shape_file = 'data/Farmdata_Jaleubari_Ladhasar_Ratangarh_Churu_1-polygon.shp'\n",
    "shape_file = 'data/india_shp/districts/farrukhabad/file.shp'\n",
    "pids = s2.get_product_ids('2021-11-01', '2021-12-31', 10, 5, \n",
    "                       shape_file=shape_file, bbox=None)"
   ]
  },
  {
   "cell_type": "code",
   "execution_count": null,
   "id": "a8a21411-f47c-448a-b2c1-ae5f0f85eede",
   "metadata": {},
   "outputs": [],
   "source": [
    "lst = [(key, val, shape_file) for key, val in pids.items()]"
   ]
  },
  {
   "cell_type": "code",
   "execution_count": null,
   "id": "469bb9b7-2a9f-4863-af80-339ce40a4858",
   "metadata": {},
   "outputs": [],
   "source": [
    "from multiprocessing import Pool, cpu_count, Process\n",
    "pool = Pool(cpu_count()-2)\n",
    "with pool:\n",
    "    pool.map(ss.indices_generator, lst)"
   ]
  },
  {
   "cell_type": "code",
   "execution_count": null,
   "id": "05f3418c-1caa-44bf-9ae4-54e95e5351bd",
   "metadata": {},
   "outputs": [],
   "source": []
  },
  {
   "cell_type": "code",
   "execution_count": null,
   "id": "67d74116-ed2e-4088-a4c5-d002bbf3aa9d",
   "metadata": {},
   "outputs": [],
   "source": [
    "# for key, val in pids.items():\n",
    "    f_path = os.path.join('data', 'indice', str(key))\n",
    "    try:\n",
    "        os.makedirs(f_path)\n",
    "    except OSError as exc:\n",
    "        if exc.errno != errno.EEXIST:\n",
    "            raise\n",
    "        pass\n",
    "    raster_list = defaultdict(list)\n",
    "    for item in val:\n",
    "        raster_list['b4_path'].append(s2.pid_to_path(item, 'B04'))\n",
    "        raster_list['b8_path'].append(s2.pid_to_path(item, 'B08'))\n",
    "        raster_list['b8a_path'].append(s2.pid_to_path(item, 'B8A'))\n",
    "        raster_list['b11_path'].append(s2.pid_to_path(item, 'B11'))\n",
    "    \n",
    "    b4_file = merge_clip_raster(raster_file_list=raster_list['b4_path'], output_file='b4.tif', shp_file=shape_file)\n",
    "    b8_file = merge_clip_raster(raster_file_list=raster_list['b8_path'], output_file='b8.tif', shp_file=shape_file)\n",
    "    \n",
    "    b4 = raster_to_array(b4_file, 'int16')\n",
    "    b8 = raster_to_array(b8_file, 'int16')\n",
    "    ndvi = get_ndvi(b4,b8)\n",
    "    ndvi = np.around(ndvi, decimals=2, out=None)\n",
    "    write_raster('b4.tif', ndvi, f'{f_path}/ndvi.tif', gdal.GDT_Float32)\n",
    "    \n",
    "    savi = get_savi(b4, b8, 0.428)\n",
    "    savi = np.around(savi, decimals=2, out=None)\n",
    "    write_raster('b4.tif', savi, f'{f_path}/savi.tif', gdal.GDT_Float32)\n",
    "    b4 = b8 = ndvi = savi = None\n",
    "    \n",
    "    b8a_file = merge_clip_raster(raster_file_list=raster_list['b8a_path'], output_file='b8a.tif', shp_file=shape_file)\n",
    "    b11_file = merge_clip_raster(raster_file_list=raster_list['b11_path'], output_file='b11.tif', shp_file=shape_file)\n",
    "    b8a = raster_to_array(b8a_file, 'int16')\n",
    "    b11 = raster_to_array(b11_file, 'int16')\n",
    "    \n",
    "    lswi = get_lswi(b8a, b11)\n",
    "    lswi = np.around(lswi, decimals=2, out=None)\n",
    "    write_raster('b8a.tif', lswi, f'{f_path}/lswi.tif', gdal.GDT_Float32)\n",
    "    b8a = b11 = lswi = None"
   ]
  }
 ],
 "metadata": {
  "kernelspec": {
   "display_name": "Python 3 (ipykernel)",
   "language": "python",
   "name": "python3"
  },
  "language_info": {
   "codemirror_mode": {
    "name": "ipython",
    "version": 3
   },
   "file_extension": ".py",
   "mimetype": "text/x-python",
   "name": "python",
   "nbconvert_exporter": "python",
   "pygments_lexer": "ipython3",
   "version": "3.9.6"
  }
 },
 "nbformat": 4,
 "nbformat_minor": 5
}
