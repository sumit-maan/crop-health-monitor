{
 "cells": [
  {
   "cell_type": "code",
   "execution_count": 6,
   "id": "db0660ab-a89e-43ec-ab7d-be32181e27ad",
   "metadata": {},
   "outputs": [],
   "source": [
    "from sia.satellite import sentinel2\n",
    "from sia.utils.helper import *\n",
    "from sia.utils.raster import *\n",
    "from sia.indices.indice import *\n",
    "import os\n",
    "import errno\n",
    "from collections import defaultdict\n",
    "import numpy as np\n",
    "np.seterr(divide='ignore', invalid='ignore')\n",
    "s2 = sentinel2.Sentinel2()\n",
    "\n",
    "# # s2_tile = '/home/ec2-user/SageMaker/sumit/crop-classification/unsupcc/satellite/satellite_tiles/s2_tile.shp'\n",
    "# shape_file = 'data/Farmdata_Jaleubari_Ladhasar_Ratangarh_Churu_1-polygon.shp'\n",
    "shape_file = '/Users/sumitmaan/work/dehaat/india_shapefile/districts/vaishali/file.shp'\n",
    "pids = s2.get_product_ids('2021-11-01', '2021-12-31', 10, 5, \n",
    "                       shape_file=shape_file, bbox=None)"
   ]
  },
  {
   "cell_type": "code",
   "execution_count": 7,
   "id": "442b9b9f-340c-4277-a081-dcd7cf4e42e2",
   "metadata": {},
   "outputs": [],
   "source": [
    "pids = {'2021-11-03': ['S2A_45RUJ_20211103_0_L2A'],\n",
    " '2021-11-08': ['S2B_45RUJ_20211108_0_L2A'],\n",
    " '2021-11-13': ['S2A_45RUJ_20211113_0_L2A'],\n",
    " '2021-11-18': ['S2B_45RUJ_20211118_0_L2A'],\n",
    " '2021-11-23': ['S2A_45RUJ_20211123_0_L2A'],\n",
    " '2021-11-28': ['S2B_45RUJ_20211128_0_L2A'],\n",
    " '2021-12-03': ['S2A_45RUJ_20211203_0_L2A'],\n",
    " '2021-12-08': ['S2B_45RUJ_20211208_0_L2A'],\n",
    " '2021-12-13': ['S2A_45RUJ_20211213_0_L2A']}"
   ]
  },
  {
   "cell_type": "code",
   "execution_count": 8,
   "id": "a8a21411-f47c-448a-b2c1-ae5f0f85eede",
   "metadata": {},
   "outputs": [],
   "source": [
    "lst = [(key, val, shape_file) for key, val in pids.items()]"
   ]
  },
  {
   "cell_type": "code",
   "execution_count": 10,
   "id": "25dd5f15-9de9-42af-af09-616e354dcdaa",
   "metadata": {},
   "outputs": [],
   "source": [
    "ig = Indice()"
   ]
  },
  {
   "cell_type": "code",
   "execution_count": 11,
   "id": "469bb9b7-2a9f-4863-af80-339ce40a4858",
   "metadata": {},
   "outputs": [
    {
     "name": "stdout",
     "output_type": "stream",
     "text": [
      "Indices are Generated at 2021-11-03\n"
     ]
    }
   ],
   "source": [
    "from multiprocessing import Pool, cpu_count, Process\n",
    "pool = Pool(cpu_count()-2)\n",
    "with pool:\n",
    "    pool.map(ig.indices_generator, lst)"
   ]
  },
  {
   "cell_type": "code",
   "execution_count": null,
   "id": "5ee293a1-12d7-40e5-8c9d-ff94b1b57e10",
   "metadata": {},
   "outputs": [],
   "source": []
  },
  {
   "cell_type": "code",
   "execution_count": null,
   "id": "d54d4233-7b44-4041-9f8f-473b7182cc42",
   "metadata": {},
   "outputs": [],
   "source": []
  },
  {
   "cell_type": "code",
   "execution_count": null,
   "id": "4fa20c78-aa02-475e-ac89-5baf8e668502",
   "metadata": {},
   "outputs": [],
   "source": []
  },
  {
   "cell_type": "code",
   "execution_count": null,
   "id": "67d74116-ed2e-4088-a4c5-d002bbf3aa9d",
   "metadata": {},
   "outputs": [],
   "source": [
    "# for key, val in pids.items():\n",
    "    f_path = os.path.join('data', 'indice', str(key))\n",
    "    try:\n",
    "        os.makedirs(f_path)\n",
    "    except OSError as exc:\n",
    "        if exc.errno != errno.EEXIST:\n",
    "            raise\n",
    "        pass\n",
    "    raster_list = defaultdict(list)\n",
    "    for item in val:\n",
    "        raster_list['b4_path'].append(s2.pid_to_path(item, 'B04'))\n",
    "        raster_list['b8_path'].append(s2.pid_to_path(item, 'B08'))\n",
    "        raster_list['b8a_path'].append(s2.pid_to_path(item, 'B8A'))\n",
    "        raster_list['b11_path'].append(s2.pid_to_path(item, 'B11'))\n",
    "    \n",
    "    b4_file = merge_clip_raster(raster_file_list=raster_list['b4_path'], output_file='b4.tif', shp_file=shape_file)\n",
    "    b8_file = merge_clip_raster(raster_file_list=raster_list['b8_path'], output_file='b8.tif', shp_file=shape_file)\n",
    "    \n",
    "    b4 = raster_to_array(b4_file, 'int16')\n",
    "    b8 = raster_to_array(b8_file, 'int16')\n",
    "    ndvi = get_ndvi(b4,b8)\n",
    "    ndvi = np.around(ndvi, decimals=2, out=None)\n",
    "    write_raster('b4.tif', ndvi, f'{f_path}/ndvi.tif', gdal.GDT_Float32)\n",
    "    \n",
    "    savi = get_savi(b4, b8, 0.428)\n",
    "    savi = np.around(savi, decimals=2, out=None)\n",
    "    write_raster('b4.tif', savi, f'{f_path}/savi.tif', gdal.GDT_Float32)\n",
    "    b4 = b8 = ndvi = savi = None\n",
    "    \n",
    "    b8a_file = merge_clip_raster(raster_file_list=raster_list['b8a_path'], output_file='b8a.tif', shp_file=shape_file)\n",
    "    b11_file = merge_clip_raster(raster_file_list=raster_list['b11_path'], output_file='b11.tif', shp_file=shape_file)\n",
    "    b8a = raster_to_array(b8a_file, 'int16')\n",
    "    b11 = raster_to_array(b11_file, 'int16')\n",
    "    \n",
    "    lswi = get_lswi(b8a, b11)\n",
    "    lswi = np.around(lswi, decimals=2, out=None)\n",
    "    write_raster('b8a.tif', lswi, f'{f_path}/lswi.tif', gdal.GDT_Float32)\n",
    "    b8a = b11 = lswi = None"
   ]
  },
  {
   "cell_type": "code",
   "execution_count": null,
   "id": "4bcba123-9e22-4d60-8514-60fd2e50cfa5",
   "metadata": {},
   "outputs": [],
   "source": []
  },
  {
   "cell_type": "code",
   "execution_count": null,
   "id": "fe653034-0f2a-412a-b339-1b0c97f0566d",
   "metadata": {},
   "outputs": [],
   "source": []
  },
  {
   "cell_type": "code",
   "execution_count": null,
   "id": "0ed8f6f0-8ad6-4875-9ccf-14b32b032f0f",
   "metadata": {},
   "outputs": [],
   "source": []
  }
 ],
 "metadata": {
  "kernelspec": {
   "display_name": "Python 3 (ipykernel)",
   "language": "python",
   "name": "python3"
  },
  "language_info": {
   "codemirror_mode": {
    "name": "ipython",
    "version": 3
   },
   "file_extension": ".py",
   "mimetype": "text/x-python",
   "name": "python",
   "nbconvert_exporter": "python",
   "pygments_lexer": "ipython3",
   "version": "3.9.6"
  }
 },
 "nbformat": 4,
 "nbformat_minor": 5
}
