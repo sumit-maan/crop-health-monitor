{
 "cells": [
  {
   "cell_type": "code",
   "execution_count": 247,
   "id": "73389663",
   "metadata": {},
   "outputs": [],
   "source": [
    "import os\n",
    "import subprocess\n",
    "import sys\n",
    "import numpy as np\n",
    "import pandas as pd\n",
    "from osgeo import gdal, ogr\n",
    "import errno\n",
    "import argparse\n",
    "import itertools\n",
    "import glob\n",
    "from subprocess import call\n",
    "from collections import defaultdict\n",
    "import json\n",
    "from datetime import timedelta\n",
    "from datetime import datetime as dt\n",
    "import shapely.wkt\n",
    "from shapely.geometry import Polygon, box\n",
    "from dateutil.relativedelta import relativedelta\n",
    "import boto3\n",
    "from botocore import UNSIGNED\n",
    "from botocore.config import Config\n",
    "from multiprocessing import Pool, cpu_count\n",
    "from itertools import repeat\n",
    "import warnings\n",
    "\n",
    "warnings.filterwarnings('ignore')\n",
    "\n",
    "s3 = boto3.resource('s3', config=Config(signature_version=UNSIGNED))\n",
    "s3_client = boto3.client('s3')\n",
    "gdal.SetConfigOption('AWS_NO_SIGN_REQUEST', 'YES')\n",
    "\n",
    "import pandas as pd\n",
    "from rasterstats import zonal_stats\n",
    "import geopandas as gpd"
   ]
  },
  {
   "cell_type": "code",
   "execution_count": 248,
   "id": "9ce8f236",
   "metadata": {},
   "outputs": [],
   "source": [
    "def get_mgrs_shp(aoi_shp, bbox):\n",
    "    aoi_mgrs_shp = 'sentinel2_bbox_mgrs.shp'\n",
    "    try:\n",
    "        os.remove(aoi_mgrs_shp)\n",
    "    except OSError:\n",
    "        pass\n",
    "    if aoi_shp:\n",
    "        call(str('ogr2ogr -clipsrc ' + aoi_shp + ' ' + aoi_mgrs_shp + ' ' + s2_tile), shell=True)\n",
    "    else:\n",
    "        min_x, min_y, max_x, max_y = bbox[0], bbox[1], bbox[2], bbox[3]\n",
    "        call(str('ogr2ogr -f \"ESRI Shapefile\" ' + aoi_mgrs_shp + ' ' + s2_tile + ' -clipsrc ' + str(min_x)\n",
    "                 + ' ' + str(min_y) + ' ' + str(max_x) + ' ' + str(max_y)), shell=True)\n",
    "    return aoi_mgrs_shp\n",
    "\n",
    "\n",
    "def shape_to_tiles(aoi_shp=None, bbox=None):\n",
    "    aoi_mgrs_shp = get_mgrs_shp(aoi_shp, bbox)\n",
    "    driver = ogr.GetDriverByName('ESRI Shapefile')\n",
    "    ds = driver.Open(aoi_mgrs_shp)\n",
    "    layer = ds.GetLayer(0)\n",
    "    mgrs_list = []\n",
    "    for feat in layer:\n",
    "        mgrs_list.append(feat.GetField('tile'))\n",
    "    del layer\n",
    "    del ds\n",
    "    return mgrs_list\n",
    "\n",
    "def shape_to_polygon(shp_file=None, bbox=None):\n",
    "    poly = None\n",
    "    if bbox:\n",
    "        poly = box(*bbox, ccw=True)\n",
    "    elif shp_file:\n",
    "        ds = ogr.Open(shp_file)\n",
    "        layer = ds.GetLayer(0)\n",
    "        for feat in layer:\n",
    "            wkt_poly = feat.geometry().ExportToWkt()\n",
    "        poly = shapely.wkt.loads(wkt_poly)\n",
    "    return poly\n",
    "\n",
    "\n",
    "def dates_dif(date1, date2):\n",
    "    d0 = dt.strptime(date1, '%Y-%m-%d').date()\n",
    "    d1 = dt.strptime(date2, '%Y-%m-%d').date()\n",
    "    delta = abs(d1 - d0).days\n",
    "    return delta\n",
    "\n",
    "\n",
    "def validate_date(original_date, start_date, end_date):\n",
    "    final_date = dt.strptime(str(original_date), '%Y-%m-%d')\n",
    "    s_date = dt.strptime(str(start_date), '%Y-%m-%d')\n",
    "    e_date = dt.strptime(str(end_date), '%Y-%m-%d')\n",
    "    return s_date <= final_date <= e_date\n",
    "\n",
    "\n",
    "def datetime_iterator(start_date=None, end_date=None):\n",
    "    if not end_date:\n",
    "        end_date = dt.today().date()\n",
    "    if not start_date:\n",
    "        start_date = end_date - timedelta(30)\n",
    "    start_date = dt.strptime(str(start_date), '%Y-%m-%d').date()\n",
    "    start_date = start_date.replace(day=1)\n",
    "    end_date = dt.strptime(str(end_date), '%Y-%m-%d').date()\n",
    "    while start_date <= end_date:\n",
    "        yield start_date\n",
    "        start_date = start_date + relativedelta(months=1)\n",
    "\n",
    "\n",
    "def data_difference_days(product_dictionary, days_interval):\n",
    "    from datetime import datetime as dt\n",
    "    prev_date = None\n",
    "    _dates = list(sorted(product_dictionary.keys()))\n",
    "    n = len(_dates)\n",
    "    for i in range(n - 1):\n",
    "        if not prev_date:\n",
    "            prev_date = _dates[i]\n",
    "        date = _dates[i + 1]\n",
    "        date_diff = dt.strptime(date, \"%Y-%m-%d\") - dt.strptime(prev_date, \"%Y-%m-%d\")\n",
    "        days_diff = date_diff.days\n",
    "        if days_diff < days_interval:\n",
    "            product_dictionary.pop(date)\n",
    "        else:\n",
    "            prev_date = None\n",
    "    return product_dictionary"
   ]
  },
  {
   "cell_type": "code",
   "execution_count": 249,
   "id": "40963d7d",
   "metadata": {},
   "outputs": [],
   "source": [
    "def get_product_ids(start_date, end_date, cloud_threshold, data_days_interval, shape_file=None, bbox=None):\n",
    "    source_s3_bucket = 'sentinel-cogs'\n",
    "    source_s3_dir = 'sentinel-s2-l2a-cogs'\n",
    "    tile_list = shape_to_tiles(aoi_shp=shape_file, bbox=bbox)\n",
    "    tile_list = ['43RDM']\n",
    "    poly = shape_to_polygon(shp_file=shape_file, bbox=bbox)\n",
    "    print(f'Tiles found for the given AOI : {tile_list}')\n",
    "    final_dict = {'single_tile': {}, 'merge_tile': {}}\n",
    "    for tile in tile_list:\n",
    "        utm_zone, lat_band, grid_square = str(tile)[:2], str(tile)[2], str(tile)[3:5]\n",
    "        for _date in datetime_iterator(start_date, end_date):\n",
    "            _year = int(_date.year)\n",
    "            _month = int(_date.month)\n",
    "            _PREFIX = os.path.join(source_s3_dir, str(utm_zone), str(lat_band), str(grid_square),\n",
    "                                   str(_year), str(_month), '')\n",
    "            _PREFIX = _PREFIX.replace('\\\\', '/')\n",
    "            response = s3_client.list_objects(Bucket=source_s3_bucket, Prefix=_PREFIX)\n",
    "            for content in response.get('Contents', []):\n",
    "                key = content['Key']\n",
    "                if key.endswith('.json'):\n",
    "                    product_id = str(key).split('/')[-2]\n",
    "                    pid_date = '-'.join([str(_year), str(_month).zfill(2), str(product_id[16:18]).zfill(2)])\n",
    "                    if not validate_date(pid_date, start_date, end_date):\n",
    "                        continue\n",
    "                    result = s3.Object(source_s3_bucket, key)\n",
    "                    data = json.load(result.get()['Body'])\n",
    "                    tile_coord = data['geometry']['coordinates']\n",
    "                    tile_cloud = data['properties']['eo:cloud_cover']\n",
    "                    tile_poly = Polygon(tile_coord[0])\n",
    "                    percent_area = poly.intersection(tile_poly).area / poly.area\n",
    "                    print(f'Date: {pid_date}   Tile:{tile}   Cloud: {tile_cloud}   Area AOI/Tile: {percent_area}')\n",
    "                    if percent_area <= 0.05:\n",
    "                        continue\n",
    "                    elif percent_area >= 0.99:\n",
    "                        if not final_dict['single_tile'].get(str(pid_date)):\n",
    "                            final_dict['single_tile'][str(pid_date)] = {}\n",
    "                        final_dict['single_tile'][str(pid_date)][str('pids')] = [product_id]\n",
    "                        final_dict['single_tile'][str(pid_date)][str('cloud_percentages')] = tile_cloud\n",
    "                    else:\n",
    "                        if not final_dict['merge_tile'].get(str(pid_date)):\n",
    "                            final_dict['merge_tile'][str(pid_date)] = defaultdict(list)\n",
    "                        final_dict['merge_tile'][str(pid_date)][str('pids')].append(product_id)\n",
    "                        final_dict['merge_tile'][str(pid_date)][str('tile_ids')].append(tile)\n",
    "                        final_dict['merge_tile'][str(pid_date)][str('cloud_percentages')].append(tile_cloud)\n",
    "                        final_dict['merge_tile'][str(pid_date)][str('percent_areas')].append(percent_area)\n",
    "    diff = dates_dif(start_date, end_date)\n",
    "    diff = diff // data_days_interval\n",
    "    diff = diff // 2  #### Data interval Buffer for user's input\n",
    "    all_pids = {}\n",
    "    if len(final_dict['single_tile']) >= diff:\n",
    "        data = final_dict['single_tile']\n",
    "        _dates = list(sorted(data.keys()))\n",
    "        for date in _dates:\n",
    "            print(f'Single Tile Metadata: {data[date]}')\n",
    "            tile_cloud = data[date]['cloud_percentages']\n",
    "            if tile_cloud > cloud_threshold:\n",
    "                continue\n",
    "            else:\n",
    "                all_pids[str(date)] = data[date]['pids']\n",
    "    else:\n",
    "        data = final_dict['merge_tile']\n",
    "        prev_date = None\n",
    "        skip_one = False\n",
    "        _dates = list(sorted(data.keys()))\n",
    "        for date in _dates:\n",
    "            if not prev_date:\n",
    "                prev_date = date\n",
    "                continue\n",
    "            if skip_one:\n",
    "                prev_date = date\n",
    "                skip_one = False\n",
    "                continue\n",
    "            date_diff = dt.strptime(date, \"%Y-%m-%d\") - dt.strptime(prev_date, \"%Y-%m-%d\")\n",
    "            days_diff = date_diff.days\n",
    "            weighted_sum = 0\n",
    "            sum_area_percents = 0\n",
    "            for i in range(len(data[prev_date]['tile_ids'])):\n",
    "                weighted_sum += data[prev_date]['cloud_percentages'][i] * data[prev_date]['percent_areas'][i]\n",
    "                sum_area_percents += data[prev_date]['percent_areas'][i]\n",
    "\n",
    "            for i in range(len(data[date]['tile_ids'])):\n",
    "                weighted_sum += data[date]['cloud_percentages'][i] * data[date]['percent_areas'][i]\n",
    "                sum_area_percents += data[date]['percent_areas'][i]\n",
    "\n",
    "            avg_cloud_percent = weighted_sum / sum_area_percents\n",
    "            if avg_cloud_percent > cloud_threshold:\n",
    "                prev_date = date\n",
    "                continue\n",
    "            if days_diff >= 5:\n",
    "                all_pids[str(prev_date)] = data[prev_date]['pids']\n",
    "            elif days_diff < 5:\n",
    "                all_pids[str(date)] = data[prev_date]['pids'] + data[date]['pids']\n",
    "                skip_one = True\n",
    "            prev_date = date\n",
    "    final_pids = data_difference_days(all_pids, data_days_interval)\n",
    "    return final_pids"
   ]
  },
  {
   "cell_type": "code",
   "execution_count": 250,
   "id": "674eb0ed",
   "metadata": {},
   "outputs": [],
   "source": [
    "source_s3_bucket = 'sentinel-cogs'\n",
    "source_s3_dir = 'sentinel-s2-l2a-cogs'\n",
    "def pid_to_path(prod_id, band):\n",
    "    lst = prod_id.split('_')\n",
    "    tile = lst[1]\n",
    "    utm_zone, lat_band, grid_sq = str(tile)[:2], str(tile)[2], str(tile)[3:5]\n",
    "    _year, _month, _day = lst[2][0:4], lst[2][4:6], lst[2][6:8]\n",
    "    vsi_ext = '/vsis3/'\n",
    "    band_tif = os.path.join(vsi_ext, source_s3_bucket, source_s3_dir, str(utm_zone), str(lat_band),\n",
    "                            str(grid_sq),str(_year), str(int(_month)), str(prod_id), str(band) + '.tif')\n",
    "    band_tif = band_tif.replace('\\\\', '/')\n",
    "    return band_tif"
   ]
  },
  {
   "cell_type": "code",
   "execution_count": 251,
   "id": "ccdd918c",
   "metadata": {},
   "outputs": [],
   "source": [
    "def raster_to_array(raster_file):\n",
    "    ds = gdal.Open(raster_file)\n",
    "    band = ds.GetRasterBand(1)\n",
    "    arr = band.ReadAsArray()\n",
    "    return arr\n",
    "def get_ndvi(red, nir):\n",
    "    arr = (nir - red) / (nir + red)\n",
    "    arr[arr > 1] = 0\n",
    "    arr[arr < -1] = 0\n",
    "    return arr\n",
    "def get_savi(red, nir, l): ## l = soil brightness correction factor could range from (0 -1)\n",
    "    arr = (1.0 + l)*(nir - red) / (nir + red + l)\n",
    "    return arr\n",
    "\n",
    "def get_lswi(narrow_nir, swir):\n",
    "    arr = (narrow_nir - swir) / (narrow_nir + swir)\n",
    "    arr[arr > 1] = 0\n",
    "    arr[arr < -1] = 0\n",
    "    return arr"
   ]
  },
  {
   "cell_type": "code",
   "execution_count": 252,
   "id": "3bfc22bc",
   "metadata": {},
   "outputs": [],
   "source": [
    "def clip_raster(raster_file, output_file=None, shp_file=None, bbox=None, out_width=None, out_height=None,\n",
    "                      return_file=True):\n",
    "#     ds_lst = list()\n",
    "    ds = gdal.BuildVRT('', raster_file, VRTNodata=0, srcNodata=0)\n",
    "    ds1 = gdal.Warp(output_file, ds, format='GTiff', dstNodata=0,\n",
    "              dstSRS=\"+proj=longlat +datum=WGS84 +no_defs +ellps=WGS84 +towgs84=0,0,0\",\n",
    "              cutlineDSName=shp_file, cropToCutline=True)\n",
    "    arr = ds1.ReadAsArray()\n",
    "    arr = arr.astype('int16')\n",
    "    return arr"
   ]
  },
  {
   "cell_type": "code",
   "execution_count": 253,
   "id": "70f0bebf",
   "metadata": {},
   "outputs": [],
   "source": [
    "def write_raster(ref_raster, array, dst_filename, gdal_GDT_datatype):\n",
    "    driver = gdal.GetDriverByName('GTiff')\n",
    "    cols = array.shape[1]\n",
    "    rows = array.shape[0]\n",
    "    out_ds = driver.Create(dst_filename, cols, rows, 1, gdal_GDT_datatype)\n",
    "    out_ds.GetRasterBand(1).WriteArray(array)\n",
    "\n",
    "    # adding GeoTransform and Projection\n",
    "    data0 = gdal.Open(ref_raster)\n",
    "    geo_trans = data0.GetGeoTransform()\n",
    "    proj = data0.GetProjection()\n",
    "    del data0\n",
    "    out_ds.SetGeoTransform(geo_trans)\n",
    "    out_ds.SetProjection(proj)\n",
    "    out_ds.FlushCache()\n",
    "    del out_ds\n",
    "    return dst_filename"
   ]
  },
  {
   "cell_type": "code",
   "execution_count": 254,
   "id": "8825051c",
   "metadata": {},
   "outputs": [
    {
     "ename": "AttributeError",
     "evalue": "'NoneType' object has no attribute 'GetLayer'",
     "output_type": "error",
     "traceback": [
      "\u001b[0;31m---------------------------------------------------------------------------\u001b[0m",
      "\u001b[0;31mAttributeError\u001b[0m                            Traceback (most recent call last)",
      "\u001b[0;32m<ipython-input-254-b9d92a2e1338>\u001b[0m in \u001b[0;36m<module>\u001b[0;34m\u001b[0m\n\u001b[1;32m      2\u001b[0m \u001b[0mshape_file\u001b[0m \u001b[0;34m=\u001b[0m \u001b[0;34m'data/farm_data/Farmdata_Jaleubari_Ladhasar_Ratangarh_Churu_1-polygon.shp'\u001b[0m\u001b[0;34m\u001b[0m\u001b[0;34m\u001b[0m\u001b[0m\n\u001b[1;32m      3\u001b[0m pids = get_product_ids('2021-10-01', '2022-03-30', 100, 5, \n\u001b[0;32m----> 4\u001b[0;31m                        shape_file=shape_file, bbox=None)\n\u001b[0m",
      "\u001b[0;32m<ipython-input-249-08a57b268e88>\u001b[0m in \u001b[0;36mget_product_ids\u001b[0;34m(start_date, end_date, cloud_threshold, data_days_interval, shape_file, bbox)\u001b[0m\n\u001b[1;32m      2\u001b[0m     \u001b[0msource_s3_bucket\u001b[0m \u001b[0;34m=\u001b[0m \u001b[0;34m'sentinel-cogs'\u001b[0m\u001b[0;34m\u001b[0m\u001b[0;34m\u001b[0m\u001b[0m\n\u001b[1;32m      3\u001b[0m     \u001b[0msource_s3_dir\u001b[0m \u001b[0;34m=\u001b[0m \u001b[0;34m'sentinel-s2-l2a-cogs'\u001b[0m\u001b[0;34m\u001b[0m\u001b[0;34m\u001b[0m\u001b[0m\n\u001b[0;32m----> 4\u001b[0;31m     \u001b[0mtile_list\u001b[0m \u001b[0;34m=\u001b[0m \u001b[0mshape_to_tiles\u001b[0m\u001b[0;34m(\u001b[0m\u001b[0maoi_shp\u001b[0m\u001b[0;34m=\u001b[0m\u001b[0mshape_file\u001b[0m\u001b[0;34m,\u001b[0m \u001b[0mbbox\u001b[0m\u001b[0;34m=\u001b[0m\u001b[0mbbox\u001b[0m\u001b[0;34m)\u001b[0m\u001b[0;34m\u001b[0m\u001b[0;34m\u001b[0m\u001b[0m\n\u001b[0m\u001b[1;32m      5\u001b[0m     \u001b[0mtile_list\u001b[0m \u001b[0;34m=\u001b[0m \u001b[0;34m[\u001b[0m\u001b[0;34m'43RDM'\u001b[0m\u001b[0;34m]\u001b[0m\u001b[0;34m\u001b[0m\u001b[0;34m\u001b[0m\u001b[0m\n\u001b[1;32m      6\u001b[0m     \u001b[0mpoly\u001b[0m \u001b[0;34m=\u001b[0m \u001b[0mshape_to_polygon\u001b[0m\u001b[0;34m(\u001b[0m\u001b[0mshp_file\u001b[0m\u001b[0;34m=\u001b[0m\u001b[0mshape_file\u001b[0m\u001b[0;34m,\u001b[0m \u001b[0mbbox\u001b[0m\u001b[0;34m=\u001b[0m\u001b[0mbbox\u001b[0m\u001b[0;34m)\u001b[0m\u001b[0;34m\u001b[0m\u001b[0;34m\u001b[0m\u001b[0m\n",
      "\u001b[0;32m<ipython-input-248-122c8c0aab1c>\u001b[0m in \u001b[0;36mshape_to_tiles\u001b[0;34m(aoi_shp, bbox)\u001b[0m\n\u001b[1;32m     18\u001b[0m     \u001b[0mdriver\u001b[0m \u001b[0;34m=\u001b[0m \u001b[0mogr\u001b[0m\u001b[0;34m.\u001b[0m\u001b[0mGetDriverByName\u001b[0m\u001b[0;34m(\u001b[0m\u001b[0;34m'ESRI Shapefile'\u001b[0m\u001b[0;34m)\u001b[0m\u001b[0;34m\u001b[0m\u001b[0;34m\u001b[0m\u001b[0m\n\u001b[1;32m     19\u001b[0m     \u001b[0mds\u001b[0m \u001b[0;34m=\u001b[0m \u001b[0mdriver\u001b[0m\u001b[0;34m.\u001b[0m\u001b[0mOpen\u001b[0m\u001b[0;34m(\u001b[0m\u001b[0maoi_mgrs_shp\u001b[0m\u001b[0;34m)\u001b[0m\u001b[0;34m\u001b[0m\u001b[0;34m\u001b[0m\u001b[0m\n\u001b[0;32m---> 20\u001b[0;31m     \u001b[0mlayer\u001b[0m \u001b[0;34m=\u001b[0m \u001b[0mds\u001b[0m\u001b[0;34m.\u001b[0m\u001b[0mGetLayer\u001b[0m\u001b[0;34m(\u001b[0m\u001b[0;36m0\u001b[0m\u001b[0;34m)\u001b[0m\u001b[0;34m\u001b[0m\u001b[0;34m\u001b[0m\u001b[0m\n\u001b[0m\u001b[1;32m     21\u001b[0m     \u001b[0mmgrs_list\u001b[0m \u001b[0;34m=\u001b[0m \u001b[0;34m[\u001b[0m\u001b[0;34m]\u001b[0m\u001b[0;34m\u001b[0m\u001b[0;34m\u001b[0m\u001b[0m\n\u001b[1;32m     22\u001b[0m     \u001b[0;32mfor\u001b[0m \u001b[0mfeat\u001b[0m \u001b[0;32min\u001b[0m \u001b[0mlayer\u001b[0m\u001b[0;34m:\u001b[0m\u001b[0;34m\u001b[0m\u001b[0;34m\u001b[0m\u001b[0m\n",
      "\u001b[0;31mAttributeError\u001b[0m: 'NoneType' object has no attribute 'GetLayer'"
     ]
    }
   ],
   "source": [
    "s2_tile = '/home/ec2-user/SageMaker/sumit/crop-classification/unsupcc/satellite/satellite_tiles/s2_tile.shp'\n",
    "shape_file = 'data/farm_data/Farmdata_Jaleubari_Ladhasar_Ratangarh_Churu_1-polygon.shp'\n",
    "pids = get_product_ids('2021-10-01', '2022-03-30', 100, 5, \n",
    "                       shape_file=shape_file, bbox=None)"
   ]
  },
  {
   "cell_type": "code",
   "execution_count": 13,
   "id": "152c1769",
   "metadata": {},
   "outputs": [],
   "source": [
    "for key, val in pids.items():\n",
    "    pid = val[0]\n",
    "    date = pid.split('_')[2]\n",
    "    f_path = os.path.join('data', 'indice', str(date))\n",
    "    try:\n",
    "        os.makedirs(f_path)\n",
    "    except OSError as exc:\n",
    "        if exc.errno != errno.EEXIST:\n",
    "            raise\n",
    "        pass\n",
    "    b4_path = pid_to_path(pid, 'B04')\n",
    "    b8_path = pid_to_path(pid, 'B08')\n",
    "    b8a_path = pid_to_path(pid, 'B8A')\n",
    "    b11_path = pid_to_path(pid, 'B11')\n",
    "    \n",
    "    b4 = clip_raster(raster_file=b4_path, output_file='b4.tif', shp_file='data/farm_data/Farmdata_Jaleubari_Ladhasar_Ratangarh_Churu_1-polygon.shp')\n",
    "    b8 = clip_raster(raster_file=b8_path, output_file='b8.tif', shp_file='data/farm_data/Farmdata_Jaleubari_Ladhasar_Ratangarh_Churu_1-polygon.shp')\n",
    "    \n",
    "    ndvi = get_ndvi(b4,b8)\n",
    "    ndvi = np.around(ndvi, decimals=2, out=None)\n",
    "    write_raster('b4.tif', ndvi, f'{f_path}/ndvi.tif', gdal.GDT_Float32)\n",
    "    \n",
    "    savi = get_savi(b4, b8, 0.428)\n",
    "    savi = np.around(savi, decimals=2, out=None)\n",
    "    write_raster('b4.tif', savi, f'{f_path}/savi.tif', gdal.GDT_Float32)\n",
    "    b4 = b8 = ndvi = savi = None\n",
    "    \n",
    "    b8a = clip_raster(raster_file=b8a_path, output_file='b8a.tif', shp_file='data/farm_data/Farmdata_Jaleubari_Ladhasar_Ratangarh_Churu_1-polygon.shp')\n",
    "    b11 = clip_raster(raster_file=b11_path, output_file='b11.tif', shp_file='data/farm_data/Farmdata_Jaleubari_Ladhasar_Ratangarh_Churu_1-polygon.shp')\n",
    "    \n",
    "    lswi = get_lswi(b8a, b11)\n",
    "    lswi = np.around(lswi, decimals=2, out=None)\n",
    "    write_raster('b8a.tif', lswi, f'{f_path}/lswi.tif', gdal.GDT_Float32)"
   ]
  },
  {
   "cell_type": "code",
   "execution_count": 96,
   "id": "364b690a",
   "metadata": {},
   "outputs": [
    {
     "data": {
      "text/plain": [
       "'560/146'"
      ]
     },
     "execution_count": 96,
     "metadata": {},
     "output_type": "execute_result"
    }
   ],
   "source": [
    "geodf['Khasra_no'].iloc[2]"
   ]
  },
  {
   "cell_type": "code",
   "execution_count": 108,
   "id": "f0ec78d8",
   "metadata": {},
   "outputs": [
    {
     "name": "stdout",
     "output_type": "stream",
     "text": [
      "[481, 605, 139, 216, 388, 370, 79, 263, 427, 176]\n"
     ]
    }
   ],
   "source": [
    "import random\n",
    "geodf = gpd.read_file(\"data/farm_data/Farmdata_Jaleubari_Ladhasar_Ratangarh_Churu_1-polygon.shp\")\n",
    "date_dir = glob.glob('data/indice/*')\n",
    "date_dir = sorted(date_dir)\n",
    "randomlist = random.sample(range(0, len(geodf)), 10)\n",
    "print(randomlist)\n",
    "for i in randomlist:\n",
    "    dd = defaultdict(list)\n",
    "    f_path = f'indice_ts_data'\n",
    "    try:\n",
    "        os.makedirs(f_path)\n",
    "    except OSError as exc:\n",
    "        if exc.errno != errno.EEXIST:\n",
    "            raise\n",
    "        pass\n",
    "    for _date in date_dir:\n",
    "        data_date = str(_date.split('/')[-1])\n",
    "        dd['date'].append(data_date)\n",
    "        for indice in ['ndvi', 'savi', 'lswi']:\n",
    "            lst = zonal_stats(geodf[i:i+1], f'{_date}/{indice}.tif', stats=\"mean majority\")\n",
    "            dd[f'{indice}_mean'].append(lst[0]['mean'])\n",
    "            dd[f'{indice}_majority'].append(lst[0]['majority'])\n",
    "    df = pd.DataFrame(dd)\n",
    "    df['Khasra_no'] = geodf['Khasra_no'].iloc[i]\n",
    "    df['geometry'] = geodf['geometry'].iloc[i]\n",
    "    df = df.round(3)\n",
    "    df = df[['Khasra_no', 'date', 'ndvi_mean', 'ndvi_majority', 'savi_mean', 'savi_majority','lswi_mean', 'lswi_majority', 'geometry']]\n",
    "    df.to_csv(f_path + f'/farm{i}.csv', index=False)\n",
    "#     gdf = gpd.GeoDataFrame(df, geometry=geometry)\n",
    "#     gdf.to_file(f_path + f'/farm{i}.shp')"
   ]
  },
  {
   "cell_type": "code",
   "execution_count": 112,
   "id": "ab5d47e6",
   "metadata": {},
   "outputs": [
    {
     "name": "stdout",
     "output_type": "stream",
     "text": [
      "indice_ts_data/farm388.csv    Unnamed: 0 Khasra_no      date  ndvi_mean  ndvi_majority  savi_mean  \\\n",
      "0           0   728/333  20211004      0.308           0.34      0.439   \n",
      "1           1   728/333  20211009      0.289           0.32      0.413   \n",
      "2           2   728/333  20211014      0.279           0.31      0.398   \n",
      "\n",
      "   savi_majority  lswi_mean  lswi_majority  \\\n",
      "0           0.31     -0.026          -0.07   \n",
      "1           0.45     -0.021          -0.02   \n",
      "2           0.40     -0.042          -0.08   \n",
      "\n",
      "                                            geometry  \n",
      "0  POLYGON ((74.6617884367029 28.11409398296348, ...  \n",
      "1  POLYGON ((74.6617884367029 28.11409398296348, ...  \n",
      "2  POLYGON ((74.6617884367029 28.11409398296348, ...  \n",
      "indice_ts_data/farm139.csv    Unnamed: 0  Khasra_no      date  ndvi_mean  ndvi_majority  savi_mean  \\\n",
      "0           0         41  20211004      0.289           0.26      0.413   \n",
      "1           1         41  20211009      0.282           0.25      0.402   \n",
      "2           2         41  20211014      0.287           0.29      0.410   \n",
      "\n",
      "   savi_majority  lswi_mean  lswi_majority  \\\n",
      "0           0.37     -0.029          -0.03   \n",
      "1           0.33     -0.025          -0.02   \n",
      "2           0.42     -0.034          -0.02   \n",
      "\n",
      "                                            geometry  \n",
      "0  POLYGON ((74.65192014665202 28.12837823178381,...  \n",
      "1  POLYGON ((74.65192014665202 28.12837823178381,...  \n",
      "2  POLYGON ((74.65192014665202 28.12837823178381,...  \n",
      "indice_ts_data/farm370.csv    Unnamed: 0  Khasra_no      date  ndvi_mean  ndvi_majority  savi_mean  \\\n",
      "0           0        295  20211004      0.373           0.29      0.532   \n",
      "1           1        295  20211009      0.321           0.29      0.459   \n",
      "2           2        295  20211014      0.298           0.26      0.427   \n",
      "\n",
      "   savi_majority  lswi_mean  lswi_majority  \\\n",
      "0           0.42      0.013          -0.03   \n",
      "1           0.41     -0.000          -0.03   \n",
      "2           0.37     -0.027          -0.04   \n",
      "\n",
      "                                            geometry  \n",
      "0  POLYGON ((74.66893715605548 28.11859178052862,...  \n",
      "1  POLYGON ((74.66893715605548 28.11859178052862,...  \n",
      "2  POLYGON ((74.66893715605548 28.11859178052862,...  \n",
      "indice_ts_data/farm79.csv    Unnamed: 0 Khasra_no      date  ndvi_mean  ndvi_majority  savi_mean  \\\n",
      "0           0   612/215  20211004      0.253           0.18      0.361   \n",
      "1           1   612/215  20211009      0.207           0.15      0.295   \n",
      "2           2   612/215  20211014      0.214           0.18      0.305   \n",
      "\n",
      "   savi_majority  lswi_mean  lswi_majority  \\\n",
      "0           0.25     -0.040          -0.07   \n",
      "1           0.22     -0.048          -0.06   \n",
      "2           0.26     -0.059          -0.07   \n",
      "\n",
      "                                            geometry  \n",
      "0  POLYGON ((74.65631659721552 28.11839239901416,...  \n",
      "1  POLYGON ((74.65631659721552 28.11839239901416,...  \n",
      "2  POLYGON ((74.65631659721552 28.11839239901416,...  \n",
      "indice_ts_data/farm326.csv    Unnamed: 0      date  ndvi_mean  ndvi_majority  savi_mean  savi_majority  \\\n",
      "0           0  20211208   0.412913           0.63   0.590146           0.90   \n",
      "1           1  20211108   0.149806           0.13   0.214078           0.18   \n",
      "2           2  20220303   0.422379           0.17   0.602961           0.31   \n",
      "\n",
      "   lswi_mean  lswi_majority Khasra_no  \\\n",
      "0   0.087692           0.29   758/303   \n",
      "1  -0.106346          -0.12   758/303   \n",
      "2   0.056923          -0.06   758/303   \n",
      "\n",
      "                                            geometry  \n",
      "0  POLYGON ((74.67247552911665 28.12481036826422,...  \n",
      "1  POLYGON ((74.67247552911665 28.12481036826422,...  \n",
      "2  POLYGON ((74.67247552911665 28.12481036826422,...  \n",
      "indice_ts_data/farm605.csv    Unnamed: 0 Khasra_no      date  ndvi_mean  ndvi_majority  savi_mean  \\\n",
      "0           0   654/460  20211004      0.256           0.23      0.366   \n",
      "1           1   654/460  20211009      0.245           0.25      0.350   \n",
      "2           2   654/460  20211014      0.254           0.25      0.363   \n",
      "\n",
      "   savi_majority  lswi_mean  lswi_majority  \\\n",
      "0           0.33     -0.040          -0.06   \n",
      "1           0.39     -0.033          -0.04   \n",
      "2           0.36     -0.042          -0.05   \n",
      "\n",
      "                                            geometry  \n",
      "0  POLYGON ((74.64915456531534 28.08936608317444,...  \n",
      "1  POLYGON ((74.64915456531534 28.08936608317444,...  \n",
      "2  POLYGON ((74.64915456531534 28.08936608317444,...  \n",
      "indice_ts_data/farm427.csv    Unnamed: 0  Khasra_no      date  ndvi_mean  ndvi_majority  savi_mean  \\\n",
      "0           0        512  20211004      0.215           0.04      0.307   \n",
      "1           1        512  20211009      0.345           0.31      0.492   \n",
      "2           2        512  20211014      0.332           0.28      0.474   \n",
      "\n",
      "   savi_majority  lswi_mean  lswi_majority  \\\n",
      "0           0.08      0.016           0.03   \n",
      "1           0.47      0.005          -0.04   \n",
      "2           0.40     -0.015           0.02   \n",
      "\n",
      "                                            geometry  \n",
      "0  POLYGON ((74.67076726525097 28.09212162951836,...  \n",
      "1  POLYGON ((74.67076726525097 28.09212162951836,...  \n",
      "2  POLYGON ((74.67076726525097 28.09212162951836,...  \n",
      "indice_ts_data/farm50.csv    Unnamed: 0      date  ndvi_mean  ndvi_majority  savi_mean  savi_majority  \\\n",
      "0           0  20211208   0.256515           0.24   0.366212           0.34   \n",
      "1           1  20211108   0.265303           0.22   0.378561           0.40   \n",
      "2           2  20220303   0.245152           0.20   0.350076           0.29   \n",
      "\n",
      "   lswi_mean  lswi_majority  Khasra_no  \\\n",
      "0  -0.078125          -0.10         93   \n",
      "1  -0.053437          -0.07         93   \n",
      "2  -0.117187          -0.12         93   \n",
      "\n",
      "                                            geometry  \n",
      "0  POLYGON ((74.62889804887571 28.11472149009725,...  \n",
      "1  POLYGON ((74.62889804887571 28.11472149009725,...  \n",
      "2  POLYGON ((74.62889804887571 28.11472149009725,...  \n",
      "indice_ts_data/farm263.csv    Unnamed: 0 Khasra_no      date  ndvi_mean  ndvi_majority  savi_mean  \\\n",
      "0           0   621/216  20211004      0.231           0.21      0.330   \n",
      "1           1   621/216  20211009      0.221           0.22      0.315   \n",
      "2           2   621/216  20211014      0.232           0.26      0.332   \n",
      "\n",
      "   savi_majority  lswi_mean  lswi_majority  \\\n",
      "0           0.29     -0.043          -0.05   \n",
      "1           0.36     -0.028          -0.04   \n",
      "2           0.37     -0.044          -0.05   \n",
      "\n",
      "                                            geometry  \n",
      "0  POLYGON ((74.65691655651166 28.11965167381449,...  \n",
      "1  POLYGON ((74.65691655651166 28.11965167381449,...  \n",
      "2  POLYGON ((74.65691655651166 28.11965167381449,...  \n",
      "indice_ts_data/farm216.csv    Unnamed: 0  Khasra_no      date  ndvi_mean  ndvi_majority  savi_mean  \\\n",
      "0           0         61  20211004      0.330           0.32      0.472   \n",
      "1           1         61  20211009      0.292           0.31      0.417   \n",
      "2           2         61  20211014      0.284           0.28      0.405   \n",
      "\n",
      "   savi_majority  lswi_mean  lswi_majority  \\\n",
      "0           0.46      0.010           0.01   \n",
      "1           0.45     -0.001           0.02   \n",
      "2           0.23     -0.026           0.00   \n",
      "\n",
      "                                            geometry  \n",
      "0  POLYGON ((74.63687026983797 28.11986415975242,...  \n",
      "1  POLYGON ((74.63687026983797 28.11986415975242,...  \n",
      "2  POLYGON ((74.63687026983797 28.11986415975242,...  \n",
      "indice_ts_data/farm176.csv    Unnamed: 0 Khasra_no      date  ndvi_mean  ndvi_majority  savi_mean  \\\n",
      "0           0    709/51  20211004      0.196           0.08      0.281   \n",
      "1           1    709/51  20211009      0.176           0.09      0.249   \n",
      "2           2    709/51  20211014      0.204           0.20      0.290   \n",
      "\n",
      "   savi_majority  lswi_mean  lswi_majority  \\\n",
      "0           0.21        NaN            NaN   \n",
      "1           0.13        NaN            NaN   \n",
      "2           0.40        NaN            NaN   \n",
      "\n",
      "                                            geometry  \n",
      "0  POLYGON ((74.64724873706247 28.11927109873705,...  \n",
      "1  POLYGON ((74.64724873706247 28.11927109873705,...  \n",
      "2  POLYGON ((74.64724873706247 28.11927109873705,...  \n",
      "indice_ts_data/farm481.csv    Unnamed: 0 Khasra_no      date  ndvi_mean  ndvi_majority  savi_mean  \\\n",
      "0           0   750/416  20211004      0.400           0.28      0.571   \n",
      "1           1   750/416  20211009      0.363           0.41      0.518   \n",
      "2           2   750/416  20211014      0.333           0.35      0.476   \n",
      "\n",
      "   savi_majority  lswi_mean  lswi_majority  \\\n",
      "0           0.59      0.035           0.11   \n",
      "1           0.59      0.025           0.07   \n",
      "2           0.50     -0.004           0.03   \n",
      "\n",
      "                                            geometry  \n",
      "0  POLYGON ((74.66140726235416 28.10218488390527,...  \n",
      "1  POLYGON ((74.66140726235416 28.10218488390527,...  \n",
      "2  POLYGON ((74.66140726235416 28.10218488390527,...  \n"
     ]
    }
   ],
   "source": [
    "drs = glob.glob('indice_ts_data/*')\n",
    "for item in drs:\n",
    "    df = pd.read_csv(item)\n",
    "    print(item, df.head(3))"
   ]
  },
  {
   "cell_type": "code",
   "execution_count": 60,
   "id": "9bd27992",
   "metadata": {},
   "outputs": [],
   "source": [
    "i = 1\n",
    "import rasterio\n",
    "from rasterio.mask import mask\n",
    "import geopandas as gpd\n",
    "shapefile = gpd.read_file(\"data/farm_data/Farmdata_Jaleubari_Ladhasar_Ratangarh_Churu_1-polygon.shp\")\n",
    "# extract the geometry in GeoJSON format\n",
    "geoms = shapefile.geometry.values # list of shapely geometries\n",
    "geometry = geoms[i] # shapely geometry\n",
    "# transform to GeJSON format\n",
    "from shapely.geometry import mapping\n",
    "geoms = [mapping(geoms[i])]\n",
    "# extract the raster values values within the polygon \n",
    "with rasterio.open(\"data/indice/20211218/ndvi.tif\") as src:\n",
    "     out_image, out_transform = mask(src, geoms, crop=True)"
   ]
  },
  {
   "cell_type": "code",
   "execution_count": 61,
   "id": "7c80c7a4",
   "metadata": {},
   "outputs": [],
   "source": [
    "arr = out_image[0]"
   ]
  },
  {
   "cell_type": "code",
   "execution_count": 62,
   "id": "a8e8edee",
   "metadata": {},
   "outputs": [
    {
     "data": {
      "text/plain": [
       "<matplotlib.image.AxesImage at 0x7fd9cac1c1d0>"
      ]
     },
     "execution_count": 62,
     "metadata": {},
     "output_type": "execute_result"
    },
    {
     "data": {
      "image/png": "[encoded data removed]",
      "text/plain": [
       "<Figure size 432x288 with 1 Axes>"
      ]
     },
     "metadata": {
      "needs_background": "light"
     },
     "output_type": "display_data"
    }
   ],
   "source": [
    "import matplotlib.pyplot as plt \n",
    "plt.imshow(arr)"
   ]
  },
  {
   "cell_type": "code",
   "execution_count": 63,
   "id": "ea2030dd",
   "metadata": {},
   "outputs": [],
   "source": [
    "a = arr[arr!=0]"
   ]
  },
  {
   "cell_type": "code",
   "execution_count": 64,
   "id": "6007881e",
   "metadata": {},
   "outputs": [
    {
     "data": {
      "text/plain": [
       "array([0.19, 0.19, 0.19, 0.2 , 0.23, 0.2 , 0.19, 0.2 , 0.24, 0.24, 0.24,\n",
       "       0.2 , 0.21, 0.33, 0.45, 0.26, 0.21, 0.23, 0.23, 0.23, 0.3 , 0.39,\n",
       "       0.54, 0.52, 0.24, 0.26, 0.29, 0.39, 0.39, 0.5 , 0.53, 0.57, 0.65,\n",
       "       0.62, 0.27, 0.37, 0.5 , 0.56, 0.57, 0.57, 0.63, 0.65, 0.7 , 0.67,\n",
       "       0.58, 0.44, 0.36, 0.36, 0.56, 0.57, 0.54, 0.49, 0.54, 0.54, 0.63,\n",
       "       0.65, 0.65, 0.61, 0.56, 0.44, 0.49, 0.59, 0.58, 0.51, 0.51, 0.48,\n",
       "       0.5 , 0.65, 0.65, 0.66, 0.56, 0.54, 0.54, 0.57, 0.46, 0.33, 0.54,\n",
       "       0.55, 0.65, 0.64, 0.64, 0.69, 0.71, 0.76, 0.76, 0.76, 0.75, 0.63,\n",
       "       0.58, 0.58, 0.51, 0.59, 0.61, 0.63, 0.62, 0.64, 0.61, 0.71, 0.71,\n",
       "       0.73, 0.7 , 0.64, 0.59, 0.58, 0.61, 0.62, 0.57, 0.52, 0.52, 0.62,\n",
       "       0.7 , 0.55, 0.59, 0.59, 0.62, 0.59, 0.52, 0.57, 0.59, 0.59, 0.63,\n",
       "       0.54, 0.51, 0.56, 0.6 , 0.71, 0.61, 0.54, 0.54, 0.59, 0.56, 0.57,\n",
       "       0.63, 0.58, 0.55, 0.6 , 0.52, 0.51, 0.58, 0.59, 0.64, 0.68, 0.56,\n",
       "       0.56, 0.63, 0.57, 0.56, 0.67, 0.62, 0.54, 0.55, 0.52, 0.46, 0.49,\n",
       "       0.54, 0.63, 0.59, 0.67, 0.61, 0.61, 0.6 , 0.59, 0.57, 0.64, 0.61,\n",
       "       0.57, 0.62, 0.55, 0.43, 0.51, 0.51, 0.59, 0.58, 0.64, 0.68, 0.68,\n",
       "       0.66, 0.65, 0.62, 0.61, 0.6 , 0.58, 0.63, 0.57, 0.43, 0.52, 0.51,\n",
       "       0.6 , 0.65, 0.69, 0.72, 0.72, 0.71, 0.68, 0.69, 0.67, 0.57, 0.54,\n",
       "       0.54, 0.5 , 0.32, 0.37, 0.52, 0.49, 0.59, 0.67, 0.72, 0.72, 0.72,\n",
       "       0.68, 0.67, 0.62, 0.65, 0.55, 0.53, 0.51, 0.49, 0.31, 0.32, 0.54,\n",
       "       0.52, 0.69, 0.66, 0.67, 0.69, 0.69, 0.71, 0.69, 0.56, 0.54, 0.56,\n",
       "       0.57, 0.59, 0.55, 0.31, 0.34, 0.56, 0.57, 0.64, 0.68, 0.62, 0.59,\n",
       "       0.59, 0.57, 0.5 , 0.37, 0.31, 0.42, 0.61, 0.6 , 0.53, 0.37, 0.31,\n",
       "       0.52, 0.54, 0.64, 0.74, 0.67, 0.66, 0.66, 0.42, 0.24, 0.16, 0.28,\n",
       "       0.51, 0.62, 0.61, 0.55, 0.41, 0.25, 0.54, 0.51, 0.66, 0.76, 0.71,\n",
       "       0.71, 0.71, 0.45, 0.15, 0.11, 0.3 , 0.58, 0.69, 0.69, 0.64, 0.47,\n",
       "       0.24, 0.57, 0.55, 0.64, 0.72, 0.73, 0.67, 0.67, 0.51, 0.21, 0.16,\n",
       "       0.25, 0.58, 0.63, 0.67, 0.62, 0.51, 0.27, 0.28, 0.51, 0.54, 0.55,\n",
       "       0.62, 0.68, 0.6 , 0.6 , 0.47, 0.28, 0.18, 0.2 , 0.39, 0.44, 0.49,\n",
       "       0.4 , 0.32, 0.3 , 0.27, 0.49, 0.55, 0.5 , 0.52, 0.51, 0.48, 0.27,\n",
       "       0.18, 0.14, 0.14, 0.13, 0.16, 0.22, 0.19, 0.15, 0.15, 0.24, 0.22,\n",
       "       0.26, 0.21, 0.21, 0.21, 0.18, 0.19, 0.19, 0.16, 0.13, 0.18, 0.2 ,\n",
       "       0.16, 0.21, 0.17, 0.14, 0.14, 0.25, 0.14, 0.16, 0.17, 0.17, 0.18,\n",
       "       0.18, 0.18, 0.18, 0.17, 0.16, 0.18, 0.19, 0.14, 0.18, 0.14, 0.14,\n",
       "       0.14, 0.21,  nan, 0.1 , 0.15, 0.17, 0.16, 0.17, 0.22, 0.2 , 0.2 ,\n",
       "       0.15, 0.15, 0.15, 0.15, 0.13, 0.15, 0.15, 0.15, 0.13, 0.16, 0.23,\n",
       "       0.14, 0.16, 0.15, 0.15, 0.19, 0.22, 0.2 , 0.2 , 0.15, 0.14, 0.13,\n",
       "       0.14, 0.13, 0.13, 0.15, 0.14, 0.12, 0.16, 0.22, 0.13, 0.14, 0.14,\n",
       "       0.13, 0.16, 0.18, 0.18, 0.2 , 0.15, 0.14, 0.15, 0.15, 0.14, 0.15,\n",
       "       0.14, 0.14, 0.14, 0.14, 0.19, 0.13, 0.12, 0.15, 0.18, 0.2 , 0.2 ,\n",
       "       0.2 , 0.23, 0.18, 0.14, 0.14, 0.15, 0.17, 0.13, 0.15, 0.16, 0.17,\n",
       "       0.17, 0.16, 0.12, 0.13, 0.18, 0.21, 0.19, 0.18, 0.18, 0.19, 0.15,\n",
       "       0.14, 0.14, 0.14, 0.15, 0.18, 0.16, 0.14, 0.14, 0.16, 0.16, 0.18,\n",
       "       0.11, 0.15, 0.18, 0.18, 0.19, 0.2 , 0.2 , 0.17, 0.15, 0.15, 0.14,\n",
       "       0.16, 0.17, 0.32, 0.28, 0.14, 0.15, 0.19, 0.2 ,  nan, 0.14, 0.18,\n",
       "       0.19, 0.16, 0.21, 0.24, 0.24, 0.17, 0.14, 0.15, 0.14, 0.22, 0.24,\n",
       "       0.31, 0.31, 0.18, 0.15, 0.22, 0.22, 0.18, 0.13, 0.16, 0.22, 0.16,\n",
       "       0.18, 0.18, 0.18, 0.14, 0.15, 0.15, 0.15, 0.23, 0.2 , 0.2 , 0.19,\n",
       "       0.16, 0.17, 0.2 , 0.18, 0.17, 0.11, 0.13, 0.18, 0.16, 0.13, 0.14,\n",
       "       0.14, 0.14, 0.15, 0.12, 0.13, 0.15, 0.19, 0.23, 0.17, 0.18, 0.16,\n",
       "       0.17, 0.15, 0.16, 0.11, 0.12, 0.13, 0.13, 0.1 , 0.13, 0.13, 0.15,\n",
       "       0.16, 0.12, 0.12, 0.12, 0.21, 0.27, 0.18, 0.17, 0.16, 0.12, 0.13,\n",
       "       0.17, 0.14, 0.11, 0.15, 0.15, 0.13, 0.18, 0.17, 0.2 , 0.28, 0.28,\n",
       "       0.31, 0.11, 0.12, 0.19, 0.17, 0.13, 0.15, 0.15, 0.21, 0.3 , 0.35,\n",
       "       0.29, 0.13, 0.1 , 0.14, 0.19, 0.2 , 0.29, 0.29, 0.29, 0.35, 0.35,\n",
       "       0.29,  nan,  nan,  nan], dtype=float32)"
      ]
     },
     "execution_count": 64,
     "metadata": {},
     "output_type": "execute_result"
    }
   ],
   "source": [
    "a"
   ]
  },
  {
   "cell_type": "code",
   "execution_count": 101,
   "id": "711707e6",
   "metadata": {},
   "outputs": [],
   "source": [
    "from scipy import stats"
   ]
  },
  {
   "cell_type": "code",
   "execution_count": 105,
   "id": "8b50dde4",
   "metadata": {},
   "outputs": [
    {
     "data": {
      "text/plain": [
       "array([ 0.  ,  0.  ,  0.  ,  0.  , -0.13,  0.  ,  0.  ,  0.  ,  0.  ,\n",
       "       -0.12, -0.12,  0.  ,  0.  ,  0.  ,  0.  ,  0.  ,  0.  ,  0.  ],\n",
       "      dtype=float32)"
      ]
     },
     "execution_count": 105,
     "metadata": {},
     "output_type": "execute_result"
    }
   ],
   "source": [
    "stats.mode(arr)[0][0]"
   ]
  },
  {
   "cell_type": "code",
   "execution_count": 222,
   "id": "ada47b43",
   "metadata": {},
   "outputs": [],
   "source": [
    "a = np.around(a, decimals=2, out=None)"
   ]
  },
  {
   "cell_type": "code",
   "execution_count": 106,
   "id": "c43d21c4",
   "metadata": {},
   "outputs": [
    {
     "data": {
      "text/plain": [
       "array([[ 0.  ,  0.  ,  0.  ,  0.  ,  0.  ,  0.  ,  0.  ,  0.  ,  0.  ,\n",
       "         0.  , -0.08, -0.09,  0.  ,  0.  ,  0.  ,  0.  ,  0.  ,  0.  ],\n",
       "       [ 0.  ,  0.  ,  0.  ,  0.  ,  0.  ,  0.  ,  0.  ,  0.  , -0.13,\n",
       "        -0.12, -0.12, -0.11, -0.1 , -0.11, -0.11, -0.09, -0.1 ,  0.  ],\n",
       "       [ 0.  ,  0.  ,  0.  ,  0.  ,  0.  ,  0.  ,  0.  , -0.13, -0.14,\n",
       "        -0.13, -0.12, -0.11, -0.12, -0.12, -0.12, -0.1 , -0.1 , -0.09],\n",
       "       [ 0.  ,  0.  ,  0.  ,  0.  ,  0.  , -0.12, -0.12, -0.13, -0.13,\n",
       "        -0.13, -0.12, -0.11, -0.12, -0.12, -0.11, -0.11, -0.11,  0.  ],\n",
       "       [ 0.  ,  0.  ,  0.  ,  0.  , -0.13, -0.13, -0.13, -0.12, -0.11,\n",
       "        -0.12, -0.13, -0.13, -0.11, -0.11, -0.11,  0.  ,  0.  ,  0.  ],\n",
       "       [ 0.  ,  0.  , -0.13, -0.13, -0.13, -0.13, -0.13, -0.11, -0.11,\n",
       "        -0.12, -0.12, -0.12,  0.  ,  0.  ,  0.  ,  0.  ,  0.  ,  0.  ],\n",
       "       [ 0.  , -0.14, -0.12, -0.12, -0.13, -0.13, -0.12, -0.11, -0.11,\n",
       "        -0.12,  0.  ,  0.  ,  0.  ,  0.  ,  0.  ,  0.  ,  0.  ,  0.  ],\n",
       "       [ 0.  , -0.13, -0.12, -0.12, -0.12, -0.12, -0.12, -0.12,  0.  ,\n",
       "         0.  ,  0.  ,  0.  ,  0.  ,  0.  ,  0.  ,  0.  ,  0.  ,  0.  ],\n",
       "       [ 0.  ,  0.  , -0.12, -0.11, -0.12, -0.12,  0.  ,  0.  ,  0.  ,\n",
       "         0.  ,  0.  ,  0.  ,  0.  ,  0.  ,  0.  ,  0.  ,  0.  ,  0.  ],\n",
       "       [ 0.  ,  0.  ,  0.  , -0.12, -0.13,  0.  ,  0.  ,  0.  ,  0.  ,\n",
       "         0.  ,  0.  ,  0.  ,  0.  ,  0.  ,  0.  ,  0.  ,  0.  ,  0.  ]],\n",
       "      dtype=float32)"
      ]
     },
     "execution_count": 106,
     "metadata": {},
     "output_type": "execute_result"
    }
   ],
   "source": [
    "arr"
   ]
  },
  {
   "cell_type": "code",
   "execution_count": 109,
   "id": "828af478",
   "metadata": {},
   "outputs": [
    {
     "data": {
      "text/plain": [
       "array([[   0,    0,    0,    0,    0,    0,    0,    0,    0,    0, 3047,\n",
       "        2826,    0,    0,    0,    0,    0,    0],\n",
       "       [   0,    0,    0,    0,    0,    0,    0,    0, 3092, 3020, 2793,\n",
       "        2699, 2661, 2524, 2384, 2386, 2338,    0],\n",
       "       [   0,    0,    0,    0,    0,    0,    0, 2831, 2819, 2889, 2905,\n",
       "        2990, 3024, 2942, 2996, 3191, 3178, 3353],\n",
       "       [   0,    0,    0,    0,    0, 2772, 2772, 2781, 2884, 2909, 2929,\n",
       "        2940, 2866, 2911, 2992, 3078, 3054,    0],\n",
       "       [   0,    0,    0,    0, 2745, 2799, 2799, 2923, 2985, 2929, 2874,\n",
       "        2834, 2885, 2895, 2929,    0,    0,    0],\n",
       "       [   0,    0, 2734, 2721, 2715, 2715, 2758, 2977, 2917, 2851, 2877,\n",
       "        2851,    0,    0,    0,    0,    0,    0],\n",
       "       [   0, 2760, 2830, 2846, 2830, 2830, 2890, 2950, 2916, 2849,    0,\n",
       "           0,    0,    0,    0,    0,    0,    0],\n",
       "       [   0, 2879, 2840, 2854, 2929, 2929, 2964, 2920,    0,    0,    0,\n",
       "           0,    0,    0,    0,    0,    0,    0],\n",
       "       [   0,    0, 2938, 3009, 2998, 2998,    0,    0,    0,    0,    0,\n",
       "           0,    0,    0,    0,    0,    0,    0],\n",
       "       [   0,    0,    0, 2965, 2957,    0,    0,    0,    0,    0,    0,\n",
       "           0,    0,    0,    0,    0,    0,    0]], dtype=uint16)"
      ]
     },
     "execution_count": 109,
     "metadata": {},
     "output_type": "execute_result"
    }
   ],
   "source": [
    "arr"
   ]
  },
  {
   "cell_type": "code",
   "execution_count": 113,
   "id": "aca47bd7",
   "metadata": {},
   "outputs": [
    {
     "data": {
      "text/plain": [
       "array([[   0,    0,    0,    0,    0,    0,    0,    0,    0,    0, 3550,\n",
       "        3415,    0,    0,    0,    0,    0,    0],\n",
       "       [   0,    0,    0,    0,    0,    0,    0,    0, 4014, 3832, 3538,\n",
       "        3368, 3255, 3124, 2984, 2849, 2831,    0],\n",
       "       [   0,    0,    0,    0,    0,    0,    0, 3709, 3775, 3724, 3694,\n",
       "        3748, 3865, 3767, 3805, 3917, 3897, 4038],\n",
       "       [   0,    0,    0,    0,    0, 3535, 3535, 3621, 3757, 3764, 3695,\n",
       "        3681, 3672, 3668, 3726, 3847, 3845,    0],\n",
       "       [   0,    0,    0,    0, 3530, 3605, 3605, 3715, 3749, 3743, 3718,\n",
       "        3645, 3573, 3635, 3685,    0,    0,    0],\n",
       "       [   0,    0, 3530, 3508, 3537, 3537, 3566, 3723, 3618, 3657, 3673,\n",
       "        3646,    0,    0,    0,    0,    0,    0],\n",
       "       [   0, 3636, 3638, 3592, 3646, 3646, 3672, 3706, 3654, 3598,    0,\n",
       "           0,    0,    0,    0,    0,    0,    0],\n",
       "       [   0, 3726, 3646, 3623, 3737, 3737, 3744, 3708,    0,    0,    0,\n",
       "           0,    0,    0,    0,    0,    0,    0],\n",
       "       [   0,    0, 3750, 3751, 3800, 3800,    0,    0,    0,    0,    0,\n",
       "           0,    0,    0,    0,    0,    0,    0],\n",
       "       [   0,    0,    0, 3780, 3829,    0,    0,    0,    0,    0,    0,\n",
       "           0,    0,    0,    0,    0,    0,    0]], dtype=uint16)"
      ]
     },
     "execution_count": 113,
     "metadata": {},
     "output_type": "execute_result"
    }
   ],
   "source": [
    "arr"
   ]
  },
  {
   "cell_type": "code",
   "execution_count": 225,
   "id": "fa96e7ca",
   "metadata": {},
   "outputs": [],
   "source": [
    "ds = gdal.Open('savi.tif')"
   ]
  },
  {
   "cell_type": "code",
   "execution_count": 226,
   "id": "de31f8ad",
   "metadata": {},
   "outputs": [],
   "source": [
    "ar = ds.ReadAsArray()"
   ]
  },
  {
   "cell_type": "code",
   "execution_count": 230,
   "id": "361f91fa",
   "metadata": {},
   "outputs": [
    {
     "data": {
      "text/plain": [
       "21.068045"
      ]
     },
     "execution_count": 230,
     "metadata": {},
     "output_type": "execute_result"
    }
   ],
   "source": []
  },
  {
   "cell_type": "code",
   "execution_count": 192,
   "id": "7725db32",
   "metadata": {},
   "outputs": [
    {
     "data": {
      "text/plain": [
       "array([[3582, 3602, 3750, ..., 4096, 4012, 3964],\n",
       "       [3552, 3388, 3322, ..., 4120, 4094, 4036],\n",
       "       [3400, 3296, 3132, ..., 4128, 4104, 4108],\n",
       "       ...,\n",
       "       [3450, 3488, 3422, ..., 3193, 3168, 3062],\n",
       "       [3364, 3470, 3430, ..., 3105, 3130, 3166],\n",
       "       [3342, 3560, 3496, ..., 3082, 3068, 3177]], dtype=uint16)"
      ]
     },
     "execution_count": 192,
     "metadata": {},
     "output_type": "execute_result"
    }
   ],
   "source": [
    "ar"
   ]
  },
  {
   "cell_type": "code",
   "execution_count": 197,
   "id": "3ca7d0e5",
   "metadata": {},
   "outputs": [
    {
     "data": {
      "text/plain": [
       "OBJECTID                                                      5\n",
       "Id                                                            0\n",
       "Khasra_no                                               646/145\n",
       "Area                                                    3.10929\n",
       "Shape_Leng                                              784.085\n",
       "                                    ...                        \n",
       "age                                                           0\n",
       "premiumD_1                                                 None\n",
       "cscID                                                      None\n",
       "stateID                                                    None\n",
       "geometry      POLYGON ((465340.82919999957 3108887.5087, 465...\n",
       "Name: 4, Length: 111, dtype: object"
      ]
     },
     "execution_count": 197,
     "metadata": {},
     "output_type": "execute_result"
    }
   ],
   "source": [
    "shapefile.iloc[4]"
   ]
  },
  {
   "cell_type": "code",
   "execution_count": 73,
   "id": "75d3ea94",
   "metadata": {},
   "outputs": [],
   "source": [
    "aa = (b8a[237][162:220]-b11[237][162:220])/(b8a[237][162:220]+b11[237][162:220])"
   ]
  },
  {
   "cell_type": "code",
   "execution_count": 67,
   "id": "5134bb65",
   "metadata": {},
   "outputs": [
    {
     "data": {
      "text/plain": [
       "array([3057, 2812, 2934, 2934, 2675, 2299, 1942, 1750, 1775, 1999, 2137,\n",
       "       2591, 3029, 3340, 3335, 3268, 3411, 3261, 3154, 3245, 3328, 3328,\n",
       "       3279, 3187, 3198, 3092, 3192, 3337, 3402, 3389, 3451, 3353, 3320,\n",
       "       3133, 2890, 2860, 3033, 3125, 3125, 3199, 3015, 3087, 2992, 2988,\n",
       "       3001, 2986, 2975, 2907, 2850, 2855, 2833, 2874, 2820, 2915, 2972,\n",
       "       2972, 3011, 3117], dtype=int16)"
      ]
     },
     "execution_count": 67,
     "metadata": {},
     "output_type": "execute_result"
    }
   ],
   "source": [
    "b8a[237][162:220]"
   ]
  },
  {
   "cell_type": "code",
   "execution_count": 69,
   "id": "cc98a479",
   "metadata": {},
   "outputs": [
    {
     "data": {
      "text/plain": [
       "array([3222, 3108, 3028, 3028, 2743, 2398, 2017, 1879, 2142, 2389, 2578,\n",
       "       2786, 3086, 3426, 3407, 3481, 3852, 3692, 3670, 3633, 3722, 3722,\n",
       "       3488, 3445, 3597, 3832, 4065, 4084, 4128, 3876, 4017, 3906, 3757,\n",
       "       3623, 3235, 3022, 3001, 3319, 3319, 3480, 3411, 3390, 3292, 3356,\n",
       "       3448, 3383, 3445, 3221, 3087, 3134, 3020, 2797, 2940, 3299, 3394,\n",
       "       3394, 3320, 3526], dtype=int16)"
      ]
     },
     "execution_count": 69,
     "metadata": {},
     "output_type": "execute_result"
    }
   ],
   "source": [
    "b11[237][162:220]"
   ]
  },
  {
   "cell_type": "code",
   "execution_count": 74,
   "id": "c8318d74",
   "metadata": {},
   "outputs": [
    {
     "data": {
      "text/plain": [
       "array([-0.02627807, -0.05      , -0.01576652, -0.01576652, -0.01255076,\n",
       "       -0.02107728, -0.01894418, -0.03554698, -0.09369415, -0.08887876,\n",
       "       -0.09353128, -0.03626558, -0.00932134, -0.01271061, -0.01067932,\n",
       "       -0.03156023, -0.06071871, -0.06198763, -0.07561547, -0.05641175,\n",
       "       -0.05588652, -0.05588652, -0.03088518, -0.03890229, -0.05871965,\n",
       "       -0.10687464, -0.12029764, -0.10066029, -0.09641434, -0.06703372,\n",
       "       -0.07579004, -0.07618129, -0.06174933, -0.07252812, -0.05632653,\n",
       "       -0.02754165,  0.00530328, -0.03010552, -0.03010552, -0.04207217,\n",
       "       -0.06162465, -0.04678092, -0.04774029, -0.05800757, -0.06931307,\n",
       "       -0.06233318, -0.07320872, -0.05124021, -0.03991915, -0.04658541,\n",
       "       -0.03194943,  0.01357785, -0.02083333, -0.06179594, -0.06628966,\n",
       "       -0.06628966, -0.04880746, -0.06156857])"
      ]
     },
     "execution_count": 74,
     "metadata": {},
     "output_type": "execute_result"
    }
   ],
   "source": [
    "aa"
   ]
  },
  {
   "cell_type": "code",
   "execution_count": 46,
   "id": "0a3b5e1b",
   "metadata": {},
   "outputs": [
    {
     "data": {
      "text/plain": [
       "0.026278069756330624"
      ]
     },
     "execution_count": 46,
     "metadata": {},
     "output_type": "execute_result"
    }
   ],
   "source": [
    "(3222-3057)/(3222+3057)"
   ]
  },
  {
   "cell_type": "code",
   "execution_count": 82,
   "id": "40ebbc3e",
   "metadata": {},
   "outputs": [
    {
     "data": {
      "text/plain": [
       "55450"
      ]
     },
     "execution_count": 82,
     "metadata": {},
     "output_type": "execute_result"
    }
   ],
   "source": []
  },
  {
   "cell_type": "code",
   "execution_count": null,
   "id": "433a24ad",
   "metadata": {},
   "outputs": [],
   "source": [
    "10 farms 30dates - 4 indices (6 min, max, median, mean, majority)\n"
   ]
  },
  {
   "cell_type": "code",
   "execution_count": null,
   "id": "a65c90fb",
   "metadata": {},
   "outputs": [],
   "source": []
  }
 ],
 "metadata": {
  "kernelspec": {
   "display_name": "conda_python3",
   "language": "python",
   "name": "conda_python3"
  },
  "language_info": {
   "codemirror_mode": {
    "name": "ipython",
    "version": 3
   },
   "file_extension": ".py",
   "mimetype": "text/x-python",
   "name": "python",
   "nbconvert_exporter": "python",
   "pygments_lexer": "ipython3",
   "version": "3.6.13"
  }
 },
 "nbformat": 4,
 "nbformat_minor": 5
}
